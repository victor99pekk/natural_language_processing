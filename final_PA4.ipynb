{
  "nbformat": 4,
  "nbformat_minor": 0,
  "metadata": {
    "colab": {
      "provenance": [],
      "collapsed_sections": [
        "SgNZTjrhcHa0"
      ],
      "gpuType": "T4"
    },
    "kernelspec": {
      "name": "python3",
      "display_name": "Python 3"
    },
    "accelerator": "GPU",
    "widgets": {
      "application/vnd.jupyter.widget-state+json": {
        "a3d228eebbd747909eafda76bea7ac8f": {
          "model_module": "@jupyter-widgets/controls",
          "model_name": "HBoxModel",
          "model_module_version": "1.5.0",
          "state": {
            "_dom_classes": [],
            "_model_module": "@jupyter-widgets/controls",
            "_model_module_version": "1.5.0",
            "_model_name": "HBoxModel",
            "_view_count": null,
            "_view_module": "@jupyter-widgets/controls",
            "_view_module_version": "1.5.0",
            "_view_name": "HBoxView",
            "box_style": "",
            "children": [
              "IPY_MODEL_2efaaf07515441ebb14d43b869a8ea81",
              "IPY_MODEL_c7757df363984c999387116898c2782c",
              "IPY_MODEL_048f1554256047859a4f940b65d6b901"
            ],
            "layout": "IPY_MODEL_018f8ed0250f4f31a0adf43713674ada"
          }
        },
        "2efaaf07515441ebb14d43b869a8ea81": {
          "model_module": "@jupyter-widgets/controls",
          "model_name": "HTMLModel",
          "model_module_version": "1.5.0",
          "state": {
            "_dom_classes": [],
            "_model_module": "@jupyter-widgets/controls",
            "_model_module_version": "1.5.0",
            "_model_name": "HTMLModel",
            "_view_count": null,
            "_view_module": "@jupyter-widgets/controls",
            "_view_module_version": "1.5.0",
            "_view_name": "HTMLView",
            "description": "",
            "description_tooltip": null,
            "layout": "IPY_MODEL_67cb1c7327604287b6d3e84ac05e999b",
            "placeholder": "​",
            "style": "IPY_MODEL_270c987082df42f49b0d145795e68716",
            "value": "Downloading: 100%"
          }
        },
        "c7757df363984c999387116898c2782c": {
          "model_module": "@jupyter-widgets/controls",
          "model_name": "FloatProgressModel",
          "model_module_version": "1.5.0",
          "state": {
            "_dom_classes": [],
            "_model_module": "@jupyter-widgets/controls",
            "_model_module_version": "1.5.0",
            "_model_name": "FloatProgressModel",
            "_view_count": null,
            "_view_module": "@jupyter-widgets/controls",
            "_view_module_version": "1.5.0",
            "_view_name": "ProgressView",
            "bar_style": "success",
            "description": "",
            "description_tooltip": null,
            "layout": "IPY_MODEL_b51f21e158614f1eaf9c22e532ad5d64",
            "max": 1042301,
            "min": 0,
            "orientation": "horizontal",
            "style": "IPY_MODEL_5ea396e0c9934b55bc1b6638ba244462",
            "value": 1042301
          }
        },
        "048f1554256047859a4f940b65d6b901": {
          "model_module": "@jupyter-widgets/controls",
          "model_name": "HTMLModel",
          "model_module_version": "1.5.0",
          "state": {
            "_dom_classes": [],
            "_model_module": "@jupyter-widgets/controls",
            "_model_module_version": "1.5.0",
            "_model_name": "HTMLModel",
            "_view_count": null,
            "_view_module": "@jupyter-widgets/controls",
            "_view_module_version": "1.5.0",
            "_view_name": "HTMLView",
            "description": "",
            "description_tooltip": null,
            "layout": "IPY_MODEL_02760e0417ee4a3d93f11df511db3ec2",
            "placeholder": "​",
            "style": "IPY_MODEL_8830bd83c560413e9a223f5abea0a4fb",
            "value": " 0.99M/0.99M [00:00&lt;00:00, 2.26MB/s]"
          }
        },
        "018f8ed0250f4f31a0adf43713674ada": {
          "model_module": "@jupyter-widgets/base",
          "model_name": "LayoutModel",
          "model_module_version": "1.2.0",
          "state": {
            "_model_module": "@jupyter-widgets/base",
            "_model_module_version": "1.2.0",
            "_model_name": "LayoutModel",
            "_view_count": null,
            "_view_module": "@jupyter-widgets/base",
            "_view_module_version": "1.2.0",
            "_view_name": "LayoutView",
            "align_content": null,
            "align_items": null,
            "align_self": null,
            "border": null,
            "bottom": null,
            "display": null,
            "flex": null,
            "flex_flow": null,
            "grid_area": null,
            "grid_auto_columns": null,
            "grid_auto_flow": null,
            "grid_auto_rows": null,
            "grid_column": null,
            "grid_gap": null,
            "grid_row": null,
            "grid_template_areas": null,
            "grid_template_columns": null,
            "grid_template_rows": null,
            "height": null,
            "justify_content": null,
            "justify_items": null,
            "left": null,
            "margin": null,
            "max_height": null,
            "max_width": null,
            "min_height": null,
            "min_width": null,
            "object_fit": null,
            "object_position": null,
            "order": null,
            "overflow": null,
            "overflow_x": null,
            "overflow_y": null,
            "padding": null,
            "right": null,
            "top": null,
            "visibility": null,
            "width": null
          }
        },
        "67cb1c7327604287b6d3e84ac05e999b": {
          "model_module": "@jupyter-widgets/base",
          "model_name": "LayoutModel",
          "model_module_version": "1.2.0",
          "state": {
            "_model_module": "@jupyter-widgets/base",
            "_model_module_version": "1.2.0",
            "_model_name": "LayoutModel",
            "_view_count": null,
            "_view_module": "@jupyter-widgets/base",
            "_view_module_version": "1.2.0",
            "_view_name": "LayoutView",
            "align_content": null,
            "align_items": null,
            "align_self": null,
            "border": null,
            "bottom": null,
            "display": null,
            "flex": null,
            "flex_flow": null,
            "grid_area": null,
            "grid_auto_columns": null,
            "grid_auto_flow": null,
            "grid_auto_rows": null,
            "grid_column": null,
            "grid_gap": null,
            "grid_row": null,
            "grid_template_areas": null,
            "grid_template_columns": null,
            "grid_template_rows": null,
            "height": null,
            "justify_content": null,
            "justify_items": null,
            "left": null,
            "margin": null,
            "max_height": null,
            "max_width": null,
            "min_height": null,
            "min_width": null,
            "object_fit": null,
            "object_position": null,
            "order": null,
            "overflow": null,
            "overflow_x": null,
            "overflow_y": null,
            "padding": null,
            "right": null,
            "top": null,
            "visibility": null,
            "width": null
          }
        },
        "270c987082df42f49b0d145795e68716": {
          "model_module": "@jupyter-widgets/controls",
          "model_name": "DescriptionStyleModel",
          "model_module_version": "1.5.0",
          "state": {
            "_model_module": "@jupyter-widgets/controls",
            "_model_module_version": "1.5.0",
            "_model_name": "DescriptionStyleModel",
            "_view_count": null,
            "_view_module": "@jupyter-widgets/base",
            "_view_module_version": "1.2.0",
            "_view_name": "StyleView",
            "description_width": ""
          }
        },
        "b51f21e158614f1eaf9c22e532ad5d64": {
          "model_module": "@jupyter-widgets/base",
          "model_name": "LayoutModel",
          "model_module_version": "1.2.0",
          "state": {
            "_model_module": "@jupyter-widgets/base",
            "_model_module_version": "1.2.0",
            "_model_name": "LayoutModel",
            "_view_count": null,
            "_view_module": "@jupyter-widgets/base",
            "_view_module_version": "1.2.0",
            "_view_name": "LayoutView",
            "align_content": null,
            "align_items": null,
            "align_self": null,
            "border": null,
            "bottom": null,
            "display": null,
            "flex": null,
            "flex_flow": null,
            "grid_area": null,
            "grid_auto_columns": null,
            "grid_auto_flow": null,
            "grid_auto_rows": null,
            "grid_column": null,
            "grid_gap": null,
            "grid_row": null,
            "grid_template_areas": null,
            "grid_template_columns": null,
            "grid_template_rows": null,
            "height": null,
            "justify_content": null,
            "justify_items": null,
            "left": null,
            "margin": null,
            "max_height": null,
            "max_width": null,
            "min_height": null,
            "min_width": null,
            "object_fit": null,
            "object_position": null,
            "order": null,
            "overflow": null,
            "overflow_x": null,
            "overflow_y": null,
            "padding": null,
            "right": null,
            "top": null,
            "visibility": null,
            "width": null
          }
        },
        "5ea396e0c9934b55bc1b6638ba244462": {
          "model_module": "@jupyter-widgets/controls",
          "model_name": "ProgressStyleModel",
          "model_module_version": "1.5.0",
          "state": {
            "_model_module": "@jupyter-widgets/controls",
            "_model_module_version": "1.5.0",
            "_model_name": "ProgressStyleModel",
            "_view_count": null,
            "_view_module": "@jupyter-widgets/base",
            "_view_module_version": "1.2.0",
            "_view_name": "StyleView",
            "bar_color": null,
            "description_width": ""
          }
        },
        "02760e0417ee4a3d93f11df511db3ec2": {
          "model_module": "@jupyter-widgets/base",
          "model_name": "LayoutModel",
          "model_module_version": "1.2.0",
          "state": {
            "_model_module": "@jupyter-widgets/base",
            "_model_module_version": "1.2.0",
            "_model_name": "LayoutModel",
            "_view_count": null,
            "_view_module": "@jupyter-widgets/base",
            "_view_module_version": "1.2.0",
            "_view_name": "LayoutView",
            "align_content": null,
            "align_items": null,
            "align_self": null,
            "border": null,
            "bottom": null,
            "display": null,
            "flex": null,
            "flex_flow": null,
            "grid_area": null,
            "grid_auto_columns": null,
            "grid_auto_flow": null,
            "grid_auto_rows": null,
            "grid_column": null,
            "grid_gap": null,
            "grid_row": null,
            "grid_template_areas": null,
            "grid_template_columns": null,
            "grid_template_rows": null,
            "height": null,
            "justify_content": null,
            "justify_items": null,
            "left": null,
            "margin": null,
            "max_height": null,
            "max_width": null,
            "min_height": null,
            "min_width": null,
            "object_fit": null,
            "object_position": null,
            "order": null,
            "overflow": null,
            "overflow_x": null,
            "overflow_y": null,
            "padding": null,
            "right": null,
            "top": null,
            "visibility": null,
            "width": null
          }
        },
        "8830bd83c560413e9a223f5abea0a4fb": {
          "model_module": "@jupyter-widgets/controls",
          "model_name": "DescriptionStyleModel",
          "model_module_version": "1.5.0",
          "state": {
            "_model_module": "@jupyter-widgets/controls",
            "_model_module_version": "1.5.0",
            "_model_name": "DescriptionStyleModel",
            "_view_count": null,
            "_view_module": "@jupyter-widgets/base",
            "_view_module_version": "1.2.0",
            "_view_name": "StyleView",
            "description_width": ""
          }
        },
        "14a3c947b1274d928217d9ffbc7552b8": {
          "model_module": "@jupyter-widgets/controls",
          "model_name": "HBoxModel",
          "model_module_version": "1.5.0",
          "state": {
            "_dom_classes": [],
            "_model_module": "@jupyter-widgets/controls",
            "_model_module_version": "1.5.0",
            "_model_name": "HBoxModel",
            "_view_count": null,
            "_view_module": "@jupyter-widgets/controls",
            "_view_module_version": "1.5.0",
            "_view_name": "HBoxView",
            "box_style": "",
            "children": [
              "IPY_MODEL_bd02777f34724c3c81feca35b16b31ea",
              "IPY_MODEL_24481487e12447b59158d52d15f8529e",
              "IPY_MODEL_a583fe3991a64d64a5f478d72ed35862"
            ],
            "layout": "IPY_MODEL_49792d2b5cf741859e390314c2962a76"
          }
        },
        "bd02777f34724c3c81feca35b16b31ea": {
          "model_module": "@jupyter-widgets/controls",
          "model_name": "HTMLModel",
          "model_module_version": "1.5.0",
          "state": {
            "_dom_classes": [],
            "_model_module": "@jupyter-widgets/controls",
            "_model_module_version": "1.5.0",
            "_model_name": "HTMLModel",
            "_view_count": null,
            "_view_module": "@jupyter-widgets/controls",
            "_view_module_version": "1.5.0",
            "_view_name": "HTMLView",
            "description": "",
            "description_tooltip": null,
            "layout": "IPY_MODEL_47d3e15971aa4af9bd09c8269e781d05",
            "placeholder": "​",
            "style": "IPY_MODEL_387dbde0ce44451cae74550d8c63dd31",
            "value": "Downloading: 100%"
          }
        },
        "24481487e12447b59158d52d15f8529e": {
          "model_module": "@jupyter-widgets/controls",
          "model_name": "FloatProgressModel",
          "model_module_version": "1.5.0",
          "state": {
            "_dom_classes": [],
            "_model_module": "@jupyter-widgets/controls",
            "_model_module_version": "1.5.0",
            "_model_name": "FloatProgressModel",
            "_view_count": null,
            "_view_module": "@jupyter-widgets/controls",
            "_view_module_version": "1.5.0",
            "_view_name": "ProgressView",
            "bar_style": "success",
            "description": "",
            "description_tooltip": null,
            "layout": "IPY_MODEL_a3657eb42c0f4656820f642bf256cd7a",
            "max": 456318,
            "min": 0,
            "orientation": "horizontal",
            "style": "IPY_MODEL_c10b883d117a4fdb86e4ccafd7b52983",
            "value": 456318
          }
        },
        "a583fe3991a64d64a5f478d72ed35862": {
          "model_module": "@jupyter-widgets/controls",
          "model_name": "HTMLModel",
          "model_module_version": "1.5.0",
          "state": {
            "_dom_classes": [],
            "_model_module": "@jupyter-widgets/controls",
            "_model_module_version": "1.5.0",
            "_model_name": "HTMLModel",
            "_view_count": null,
            "_view_module": "@jupyter-widgets/controls",
            "_view_module_version": "1.5.0",
            "_view_name": "HTMLView",
            "description": "",
            "description_tooltip": null,
            "layout": "IPY_MODEL_9df9c02a668447219c752a279711dfb7",
            "placeholder": "​",
            "style": "IPY_MODEL_257a83afe3b74300b7a4d3d59e6f72ea",
            "value": " 446k/446k [00:00&lt;00:00, 3.09MB/s]"
          }
        },
        "49792d2b5cf741859e390314c2962a76": {
          "model_module": "@jupyter-widgets/base",
          "model_name": "LayoutModel",
          "model_module_version": "1.2.0",
          "state": {
            "_model_module": "@jupyter-widgets/base",
            "_model_module_version": "1.2.0",
            "_model_name": "LayoutModel",
            "_view_count": null,
            "_view_module": "@jupyter-widgets/base",
            "_view_module_version": "1.2.0",
            "_view_name": "LayoutView",
            "align_content": null,
            "align_items": null,
            "align_self": null,
            "border": null,
            "bottom": null,
            "display": null,
            "flex": null,
            "flex_flow": null,
            "grid_area": null,
            "grid_auto_columns": null,
            "grid_auto_flow": null,
            "grid_auto_rows": null,
            "grid_column": null,
            "grid_gap": null,
            "grid_row": null,
            "grid_template_areas": null,
            "grid_template_columns": null,
            "grid_template_rows": null,
            "height": null,
            "justify_content": null,
            "justify_items": null,
            "left": null,
            "margin": null,
            "max_height": null,
            "max_width": null,
            "min_height": null,
            "min_width": null,
            "object_fit": null,
            "object_position": null,
            "order": null,
            "overflow": null,
            "overflow_x": null,
            "overflow_y": null,
            "padding": null,
            "right": null,
            "top": null,
            "visibility": null,
            "width": null
          }
        },
        "47d3e15971aa4af9bd09c8269e781d05": {
          "model_module": "@jupyter-widgets/base",
          "model_name": "LayoutModel",
          "model_module_version": "1.2.0",
          "state": {
            "_model_module": "@jupyter-widgets/base",
            "_model_module_version": "1.2.0",
            "_model_name": "LayoutModel",
            "_view_count": null,
            "_view_module": "@jupyter-widgets/base",
            "_view_module_version": "1.2.0",
            "_view_name": "LayoutView",
            "align_content": null,
            "align_items": null,
            "align_self": null,
            "border": null,
            "bottom": null,
            "display": null,
            "flex": null,
            "flex_flow": null,
            "grid_area": null,
            "grid_auto_columns": null,
            "grid_auto_flow": null,
            "grid_auto_rows": null,
            "grid_column": null,
            "grid_gap": null,
            "grid_row": null,
            "grid_template_areas": null,
            "grid_template_columns": null,
            "grid_template_rows": null,
            "height": null,
            "justify_content": null,
            "justify_items": null,
            "left": null,
            "margin": null,
            "max_height": null,
            "max_width": null,
            "min_height": null,
            "min_width": null,
            "object_fit": null,
            "object_position": null,
            "order": null,
            "overflow": null,
            "overflow_x": null,
            "overflow_y": null,
            "padding": null,
            "right": null,
            "top": null,
            "visibility": null,
            "width": null
          }
        },
        "387dbde0ce44451cae74550d8c63dd31": {
          "model_module": "@jupyter-widgets/controls",
          "model_name": "DescriptionStyleModel",
          "model_module_version": "1.5.0",
          "state": {
            "_model_module": "@jupyter-widgets/controls",
            "_model_module_version": "1.5.0",
            "_model_name": "DescriptionStyleModel",
            "_view_count": null,
            "_view_module": "@jupyter-widgets/base",
            "_view_module_version": "1.2.0",
            "_view_name": "StyleView",
            "description_width": ""
          }
        },
        "a3657eb42c0f4656820f642bf256cd7a": {
          "model_module": "@jupyter-widgets/base",
          "model_name": "LayoutModel",
          "model_module_version": "1.2.0",
          "state": {
            "_model_module": "@jupyter-widgets/base",
            "_model_module_version": "1.2.0",
            "_model_name": "LayoutModel",
            "_view_count": null,
            "_view_module": "@jupyter-widgets/base",
            "_view_module_version": "1.2.0",
            "_view_name": "LayoutView",
            "align_content": null,
            "align_items": null,
            "align_self": null,
            "border": null,
            "bottom": null,
            "display": null,
            "flex": null,
            "flex_flow": null,
            "grid_area": null,
            "grid_auto_columns": null,
            "grid_auto_flow": null,
            "grid_auto_rows": null,
            "grid_column": null,
            "grid_gap": null,
            "grid_row": null,
            "grid_template_areas": null,
            "grid_template_columns": null,
            "grid_template_rows": null,
            "height": null,
            "justify_content": null,
            "justify_items": null,
            "left": null,
            "margin": null,
            "max_height": null,
            "max_width": null,
            "min_height": null,
            "min_width": null,
            "object_fit": null,
            "object_position": null,
            "order": null,
            "overflow": null,
            "overflow_x": null,
            "overflow_y": null,
            "padding": null,
            "right": null,
            "top": null,
            "visibility": null,
            "width": null
          }
        },
        "c10b883d117a4fdb86e4ccafd7b52983": {
          "model_module": "@jupyter-widgets/controls",
          "model_name": "ProgressStyleModel",
          "model_module_version": "1.5.0",
          "state": {
            "_model_module": "@jupyter-widgets/controls",
            "_model_module_version": "1.5.0",
            "_model_name": "ProgressStyleModel",
            "_view_count": null,
            "_view_module": "@jupyter-widgets/base",
            "_view_module_version": "1.2.0",
            "_view_name": "StyleView",
            "bar_color": null,
            "description_width": ""
          }
        },
        "9df9c02a668447219c752a279711dfb7": {
          "model_module": "@jupyter-widgets/base",
          "model_name": "LayoutModel",
          "model_module_version": "1.2.0",
          "state": {
            "_model_module": "@jupyter-widgets/base",
            "_model_module_version": "1.2.0",
            "_model_name": "LayoutModel",
            "_view_count": null,
            "_view_module": "@jupyter-widgets/base",
            "_view_module_version": "1.2.0",
            "_view_name": "LayoutView",
            "align_content": null,
            "align_items": null,
            "align_self": null,
            "border": null,
            "bottom": null,
            "display": null,
            "flex": null,
            "flex_flow": null,
            "grid_area": null,
            "grid_auto_columns": null,
            "grid_auto_flow": null,
            "grid_auto_rows": null,
            "grid_column": null,
            "grid_gap": null,
            "grid_row": null,
            "grid_template_areas": null,
            "grid_template_columns": null,
            "grid_template_rows": null,
            "height": null,
            "justify_content": null,
            "justify_items": null,
            "left": null,
            "margin": null,
            "max_height": null,
            "max_width": null,
            "min_height": null,
            "min_width": null,
            "object_fit": null,
            "object_position": null,
            "order": null,
            "overflow": null,
            "overflow_x": null,
            "overflow_y": null,
            "padding": null,
            "right": null,
            "top": null,
            "visibility": null,
            "width": null
          }
        },
        "257a83afe3b74300b7a4d3d59e6f72ea": {
          "model_module": "@jupyter-widgets/controls",
          "model_name": "DescriptionStyleModel",
          "model_module_version": "1.5.0",
          "state": {
            "_model_module": "@jupyter-widgets/controls",
            "_model_module_version": "1.5.0",
            "_model_name": "DescriptionStyleModel",
            "_view_count": null,
            "_view_module": "@jupyter-widgets/base",
            "_view_module_version": "1.2.0",
            "_view_name": "StyleView",
            "description_width": ""
          }
        },
        "2e01b6e2dc64477287e3411bcfb874e4": {
          "model_module": "@jupyter-widgets/controls",
          "model_name": "HBoxModel",
          "model_module_version": "1.5.0",
          "state": {
            "_dom_classes": [],
            "_model_module": "@jupyter-widgets/controls",
            "_model_module_version": "1.5.0",
            "_model_name": "HBoxModel",
            "_view_count": null,
            "_view_module": "@jupyter-widgets/controls",
            "_view_module_version": "1.5.0",
            "_view_name": "HBoxView",
            "box_style": "",
            "children": [
              "IPY_MODEL_a25a38ba475e4507a3584dfde18a84a2",
              "IPY_MODEL_05eb650cb130402e97b5eaac04cb7d78",
              "IPY_MODEL_25e11f4bcc2b4effb476125b9521eee8"
            ],
            "layout": "IPY_MODEL_6ae02a8169cb4fc196156dcedbcccfc1"
          }
        },
        "a25a38ba475e4507a3584dfde18a84a2": {
          "model_module": "@jupyter-widgets/controls",
          "model_name": "HTMLModel",
          "model_module_version": "1.5.0",
          "state": {
            "_dom_classes": [],
            "_model_module": "@jupyter-widgets/controls",
            "_model_module_version": "1.5.0",
            "_model_name": "HTMLModel",
            "_view_count": null,
            "_view_module": "@jupyter-widgets/controls",
            "_view_module_version": "1.5.0",
            "_view_name": "HTMLView",
            "description": "",
            "description_tooltip": null,
            "layout": "IPY_MODEL_1add255a9bea4f0b91baaf858c0a2b2a",
            "placeholder": "​",
            "style": "IPY_MODEL_5e38deb493214901b4f8f51f45604656",
            "value": "Downloading: 100%"
          }
        },
        "05eb650cb130402e97b5eaac04cb7d78": {
          "model_module": "@jupyter-widgets/controls",
          "model_name": "FloatProgressModel",
          "model_module_version": "1.5.0",
          "state": {
            "_dom_classes": [],
            "_model_module": "@jupyter-widgets/controls",
            "_model_module_version": "1.5.0",
            "_model_name": "FloatProgressModel",
            "_view_count": null,
            "_view_module": "@jupyter-widgets/controls",
            "_view_module_version": "1.5.0",
            "_view_name": "ProgressView",
            "bar_style": "success",
            "description": "",
            "description_tooltip": null,
            "layout": "IPY_MODEL_7398f2b134004c70b5f566c88830757a",
            "max": 26,
            "min": 0,
            "orientation": "horizontal",
            "style": "IPY_MODEL_f3f6bbb88cbd4a73a0710a03f9ed207d",
            "value": 26
          }
        },
        "25e11f4bcc2b4effb476125b9521eee8": {
          "model_module": "@jupyter-widgets/controls",
          "model_name": "HTMLModel",
          "model_module_version": "1.5.0",
          "state": {
            "_dom_classes": [],
            "_model_module": "@jupyter-widgets/controls",
            "_model_module_version": "1.5.0",
            "_model_name": "HTMLModel",
            "_view_count": null,
            "_view_module": "@jupyter-widgets/controls",
            "_view_module_version": "1.5.0",
            "_view_name": "HTMLView",
            "description": "",
            "description_tooltip": null,
            "layout": "IPY_MODEL_2fe30c06e19643c98c6a1012e0714c9c",
            "placeholder": "​",
            "style": "IPY_MODEL_7c594025e8b04604bd742edaebf50393",
            "value": " 26.0/26.0 [00:00&lt;00:00, 1.67kB/s]"
          }
        },
        "6ae02a8169cb4fc196156dcedbcccfc1": {
          "model_module": "@jupyter-widgets/base",
          "model_name": "LayoutModel",
          "model_module_version": "1.2.0",
          "state": {
            "_model_module": "@jupyter-widgets/base",
            "_model_module_version": "1.2.0",
            "_model_name": "LayoutModel",
            "_view_count": null,
            "_view_module": "@jupyter-widgets/base",
            "_view_module_version": "1.2.0",
            "_view_name": "LayoutView",
            "align_content": null,
            "align_items": null,
            "align_self": null,
            "border": null,
            "bottom": null,
            "display": null,
            "flex": null,
            "flex_flow": null,
            "grid_area": null,
            "grid_auto_columns": null,
            "grid_auto_flow": null,
            "grid_auto_rows": null,
            "grid_column": null,
            "grid_gap": null,
            "grid_row": null,
            "grid_template_areas": null,
            "grid_template_columns": null,
            "grid_template_rows": null,
            "height": null,
            "justify_content": null,
            "justify_items": null,
            "left": null,
            "margin": null,
            "max_height": null,
            "max_width": null,
            "min_height": null,
            "min_width": null,
            "object_fit": null,
            "object_position": null,
            "order": null,
            "overflow": null,
            "overflow_x": null,
            "overflow_y": null,
            "padding": null,
            "right": null,
            "top": null,
            "visibility": null,
            "width": null
          }
        },
        "1add255a9bea4f0b91baaf858c0a2b2a": {
          "model_module": "@jupyter-widgets/base",
          "model_name": "LayoutModel",
          "model_module_version": "1.2.0",
          "state": {
            "_model_module": "@jupyter-widgets/base",
            "_model_module_version": "1.2.0",
            "_model_name": "LayoutModel",
            "_view_count": null,
            "_view_module": "@jupyter-widgets/base",
            "_view_module_version": "1.2.0",
            "_view_name": "LayoutView",
            "align_content": null,
            "align_items": null,
            "align_self": null,
            "border": null,
            "bottom": null,
            "display": null,
            "flex": null,
            "flex_flow": null,
            "grid_area": null,
            "grid_auto_columns": null,
            "grid_auto_flow": null,
            "grid_auto_rows": null,
            "grid_column": null,
            "grid_gap": null,
            "grid_row": null,
            "grid_template_areas": null,
            "grid_template_columns": null,
            "grid_template_rows": null,
            "height": null,
            "justify_content": null,
            "justify_items": null,
            "left": null,
            "margin": null,
            "max_height": null,
            "max_width": null,
            "min_height": null,
            "min_width": null,
            "object_fit": null,
            "object_position": null,
            "order": null,
            "overflow": null,
            "overflow_x": null,
            "overflow_y": null,
            "padding": null,
            "right": null,
            "top": null,
            "visibility": null,
            "width": null
          }
        },
        "5e38deb493214901b4f8f51f45604656": {
          "model_module": "@jupyter-widgets/controls",
          "model_name": "DescriptionStyleModel",
          "model_module_version": "1.5.0",
          "state": {
            "_model_module": "@jupyter-widgets/controls",
            "_model_module_version": "1.5.0",
            "_model_name": "DescriptionStyleModel",
            "_view_count": null,
            "_view_module": "@jupyter-widgets/base",
            "_view_module_version": "1.2.0",
            "_view_name": "StyleView",
            "description_width": ""
          }
        },
        "7398f2b134004c70b5f566c88830757a": {
          "model_module": "@jupyter-widgets/base",
          "model_name": "LayoutModel",
          "model_module_version": "1.2.0",
          "state": {
            "_model_module": "@jupyter-widgets/base",
            "_model_module_version": "1.2.0",
            "_model_name": "LayoutModel",
            "_view_count": null,
            "_view_module": "@jupyter-widgets/base",
            "_view_module_version": "1.2.0",
            "_view_name": "LayoutView",
            "align_content": null,
            "align_items": null,
            "align_self": null,
            "border": null,
            "bottom": null,
            "display": null,
            "flex": null,
            "flex_flow": null,
            "grid_area": null,
            "grid_auto_columns": null,
            "grid_auto_flow": null,
            "grid_auto_rows": null,
            "grid_column": null,
            "grid_gap": null,
            "grid_row": null,
            "grid_template_areas": null,
            "grid_template_columns": null,
            "grid_template_rows": null,
            "height": null,
            "justify_content": null,
            "justify_items": null,
            "left": null,
            "margin": null,
            "max_height": null,
            "max_width": null,
            "min_height": null,
            "min_width": null,
            "object_fit": null,
            "object_position": null,
            "order": null,
            "overflow": null,
            "overflow_x": null,
            "overflow_y": null,
            "padding": null,
            "right": null,
            "top": null,
            "visibility": null,
            "width": null
          }
        },
        "f3f6bbb88cbd4a73a0710a03f9ed207d": {
          "model_module": "@jupyter-widgets/controls",
          "model_name": "ProgressStyleModel",
          "model_module_version": "1.5.0",
          "state": {
            "_model_module": "@jupyter-widgets/controls",
            "_model_module_version": "1.5.0",
            "_model_name": "ProgressStyleModel",
            "_view_count": null,
            "_view_module": "@jupyter-widgets/base",
            "_view_module_version": "1.2.0",
            "_view_name": "StyleView",
            "bar_color": null,
            "description_width": ""
          }
        },
        "2fe30c06e19643c98c6a1012e0714c9c": {
          "model_module": "@jupyter-widgets/base",
          "model_name": "LayoutModel",
          "model_module_version": "1.2.0",
          "state": {
            "_model_module": "@jupyter-widgets/base",
            "_model_module_version": "1.2.0",
            "_model_name": "LayoutModel",
            "_view_count": null,
            "_view_module": "@jupyter-widgets/base",
            "_view_module_version": "1.2.0",
            "_view_name": "LayoutView",
            "align_content": null,
            "align_items": null,
            "align_self": null,
            "border": null,
            "bottom": null,
            "display": null,
            "flex": null,
            "flex_flow": null,
            "grid_area": null,
            "grid_auto_columns": null,
            "grid_auto_flow": null,
            "grid_auto_rows": null,
            "grid_column": null,
            "grid_gap": null,
            "grid_row": null,
            "grid_template_areas": null,
            "grid_template_columns": null,
            "grid_template_rows": null,
            "height": null,
            "justify_content": null,
            "justify_items": null,
            "left": null,
            "margin": null,
            "max_height": null,
            "max_width": null,
            "min_height": null,
            "min_width": null,
            "object_fit": null,
            "object_position": null,
            "order": null,
            "overflow": null,
            "overflow_x": null,
            "overflow_y": null,
            "padding": null,
            "right": null,
            "top": null,
            "visibility": null,
            "width": null
          }
        },
        "7c594025e8b04604bd742edaebf50393": {
          "model_module": "@jupyter-widgets/controls",
          "model_name": "DescriptionStyleModel",
          "model_module_version": "1.5.0",
          "state": {
            "_model_module": "@jupyter-widgets/controls",
            "_model_module_version": "1.5.0",
            "_model_name": "DescriptionStyleModel",
            "_view_count": null,
            "_view_module": "@jupyter-widgets/base",
            "_view_module_version": "1.2.0",
            "_view_name": "StyleView",
            "description_width": ""
          }
        },
        "a284adb3797f45dbb9e447083f17abda": {
          "model_module": "@jupyter-widgets/controls",
          "model_name": "HBoxModel",
          "model_module_version": "1.5.0",
          "state": {
            "_dom_classes": [],
            "_model_module": "@jupyter-widgets/controls",
            "_model_module_version": "1.5.0",
            "_model_name": "HBoxModel",
            "_view_count": null,
            "_view_module": "@jupyter-widgets/controls",
            "_view_module_version": "1.5.0",
            "_view_name": "HBoxView",
            "box_style": "",
            "children": [
              "IPY_MODEL_24075cbf34d348599746bbe8bed302ca",
              "IPY_MODEL_e53d8c038ba7475e9cc87b8bb9094df7",
              "IPY_MODEL_38beddf3f8124f189d44fc16c7046cc0"
            ],
            "layout": "IPY_MODEL_480ef88a2e604917a42eb03b031cc309"
          }
        },
        "24075cbf34d348599746bbe8bed302ca": {
          "model_module": "@jupyter-widgets/controls",
          "model_name": "HTMLModel",
          "model_module_version": "1.5.0",
          "state": {
            "_dom_classes": [],
            "_model_module": "@jupyter-widgets/controls",
            "_model_module_version": "1.5.0",
            "_model_name": "HTMLModel",
            "_view_count": null,
            "_view_module": "@jupyter-widgets/controls",
            "_view_module_version": "1.5.0",
            "_view_name": "HTMLView",
            "description": "",
            "description_tooltip": null,
            "layout": "IPY_MODEL_4e96dc411939475aa6a01ccbe416b676",
            "placeholder": "​",
            "style": "IPY_MODEL_4e5788aa115b4cc3aad83b6eccb568af",
            "value": "Downloading: 100%"
          }
        },
        "e53d8c038ba7475e9cc87b8bb9094df7": {
          "model_module": "@jupyter-widgets/controls",
          "model_name": "FloatProgressModel",
          "model_module_version": "1.5.0",
          "state": {
            "_dom_classes": [],
            "_model_module": "@jupyter-widgets/controls",
            "_model_module_version": "1.5.0",
            "_model_name": "FloatProgressModel",
            "_view_count": null,
            "_view_module": "@jupyter-widgets/controls",
            "_view_module_version": "1.5.0",
            "_view_name": "ProgressView",
            "bar_style": "success",
            "description": "",
            "description_tooltip": null,
            "layout": "IPY_MODEL_39aaad166bd14220a79eb138695dab42",
            "max": 665,
            "min": 0,
            "orientation": "horizontal",
            "style": "IPY_MODEL_94e01b2cbbfd4bae902a9bcb4789576b",
            "value": 665
          }
        },
        "38beddf3f8124f189d44fc16c7046cc0": {
          "model_module": "@jupyter-widgets/controls",
          "model_name": "HTMLModel",
          "model_module_version": "1.5.0",
          "state": {
            "_dom_classes": [],
            "_model_module": "@jupyter-widgets/controls",
            "_model_module_version": "1.5.0",
            "_model_name": "HTMLModel",
            "_view_count": null,
            "_view_module": "@jupyter-widgets/controls",
            "_view_module_version": "1.5.0",
            "_view_name": "HTMLView",
            "description": "",
            "description_tooltip": null,
            "layout": "IPY_MODEL_426990f5034b4049802b4a6fdcf954cd",
            "placeholder": "​",
            "style": "IPY_MODEL_6680b2827c48474891a8ea544b92b75d",
            "value": " 665/665 [00:00&lt;00:00, 44.7kB/s]"
          }
        },
        "480ef88a2e604917a42eb03b031cc309": {
          "model_module": "@jupyter-widgets/base",
          "model_name": "LayoutModel",
          "model_module_version": "1.2.0",
          "state": {
            "_model_module": "@jupyter-widgets/base",
            "_model_module_version": "1.2.0",
            "_model_name": "LayoutModel",
            "_view_count": null,
            "_view_module": "@jupyter-widgets/base",
            "_view_module_version": "1.2.0",
            "_view_name": "LayoutView",
            "align_content": null,
            "align_items": null,
            "align_self": null,
            "border": null,
            "bottom": null,
            "display": null,
            "flex": null,
            "flex_flow": null,
            "grid_area": null,
            "grid_auto_columns": null,
            "grid_auto_flow": null,
            "grid_auto_rows": null,
            "grid_column": null,
            "grid_gap": null,
            "grid_row": null,
            "grid_template_areas": null,
            "grid_template_columns": null,
            "grid_template_rows": null,
            "height": null,
            "justify_content": null,
            "justify_items": null,
            "left": null,
            "margin": null,
            "max_height": null,
            "max_width": null,
            "min_height": null,
            "min_width": null,
            "object_fit": null,
            "object_position": null,
            "order": null,
            "overflow": null,
            "overflow_x": null,
            "overflow_y": null,
            "padding": null,
            "right": null,
            "top": null,
            "visibility": null,
            "width": null
          }
        },
        "4e96dc411939475aa6a01ccbe416b676": {
          "model_module": "@jupyter-widgets/base",
          "model_name": "LayoutModel",
          "model_module_version": "1.2.0",
          "state": {
            "_model_module": "@jupyter-widgets/base",
            "_model_module_version": "1.2.0",
            "_model_name": "LayoutModel",
            "_view_count": null,
            "_view_module": "@jupyter-widgets/base",
            "_view_module_version": "1.2.0",
            "_view_name": "LayoutView",
            "align_content": null,
            "align_items": null,
            "align_self": null,
            "border": null,
            "bottom": null,
            "display": null,
            "flex": null,
            "flex_flow": null,
            "grid_area": null,
            "grid_auto_columns": null,
            "grid_auto_flow": null,
            "grid_auto_rows": null,
            "grid_column": null,
            "grid_gap": null,
            "grid_row": null,
            "grid_template_areas": null,
            "grid_template_columns": null,
            "grid_template_rows": null,
            "height": null,
            "justify_content": null,
            "justify_items": null,
            "left": null,
            "margin": null,
            "max_height": null,
            "max_width": null,
            "min_height": null,
            "min_width": null,
            "object_fit": null,
            "object_position": null,
            "order": null,
            "overflow": null,
            "overflow_x": null,
            "overflow_y": null,
            "padding": null,
            "right": null,
            "top": null,
            "visibility": null,
            "width": null
          }
        },
        "4e5788aa115b4cc3aad83b6eccb568af": {
          "model_module": "@jupyter-widgets/controls",
          "model_name": "DescriptionStyleModel",
          "model_module_version": "1.5.0",
          "state": {
            "_model_module": "@jupyter-widgets/controls",
            "_model_module_version": "1.5.0",
            "_model_name": "DescriptionStyleModel",
            "_view_count": null,
            "_view_module": "@jupyter-widgets/base",
            "_view_module_version": "1.2.0",
            "_view_name": "StyleView",
            "description_width": ""
          }
        },
        "39aaad166bd14220a79eb138695dab42": {
          "model_module": "@jupyter-widgets/base",
          "model_name": "LayoutModel",
          "model_module_version": "1.2.0",
          "state": {
            "_model_module": "@jupyter-widgets/base",
            "_model_module_version": "1.2.0",
            "_model_name": "LayoutModel",
            "_view_count": null,
            "_view_module": "@jupyter-widgets/base",
            "_view_module_version": "1.2.0",
            "_view_name": "LayoutView",
            "align_content": null,
            "align_items": null,
            "align_self": null,
            "border": null,
            "bottom": null,
            "display": null,
            "flex": null,
            "flex_flow": null,
            "grid_area": null,
            "grid_auto_columns": null,
            "grid_auto_flow": null,
            "grid_auto_rows": null,
            "grid_column": null,
            "grid_gap": null,
            "grid_row": null,
            "grid_template_areas": null,
            "grid_template_columns": null,
            "grid_template_rows": null,
            "height": null,
            "justify_content": null,
            "justify_items": null,
            "left": null,
            "margin": null,
            "max_height": null,
            "max_width": null,
            "min_height": null,
            "min_width": null,
            "object_fit": null,
            "object_position": null,
            "order": null,
            "overflow": null,
            "overflow_x": null,
            "overflow_y": null,
            "padding": null,
            "right": null,
            "top": null,
            "visibility": null,
            "width": null
          }
        },
        "94e01b2cbbfd4bae902a9bcb4789576b": {
          "model_module": "@jupyter-widgets/controls",
          "model_name": "ProgressStyleModel",
          "model_module_version": "1.5.0",
          "state": {
            "_model_module": "@jupyter-widgets/controls",
            "_model_module_version": "1.5.0",
            "_model_name": "ProgressStyleModel",
            "_view_count": null,
            "_view_module": "@jupyter-widgets/base",
            "_view_module_version": "1.2.0",
            "_view_name": "StyleView",
            "bar_color": null,
            "description_width": ""
          }
        },
        "426990f5034b4049802b4a6fdcf954cd": {
          "model_module": "@jupyter-widgets/base",
          "model_name": "LayoutModel",
          "model_module_version": "1.2.0",
          "state": {
            "_model_module": "@jupyter-widgets/base",
            "_model_module_version": "1.2.0",
            "_model_name": "LayoutModel",
            "_view_count": null,
            "_view_module": "@jupyter-widgets/base",
            "_view_module_version": "1.2.0",
            "_view_name": "LayoutView",
            "align_content": null,
            "align_items": null,
            "align_self": null,
            "border": null,
            "bottom": null,
            "display": null,
            "flex": null,
            "flex_flow": null,
            "grid_area": null,
            "grid_auto_columns": null,
            "grid_auto_flow": null,
            "grid_auto_rows": null,
            "grid_column": null,
            "grid_gap": null,
            "grid_row": null,
            "grid_template_areas": null,
            "grid_template_columns": null,
            "grid_template_rows": null,
            "height": null,
            "justify_content": null,
            "justify_items": null,
            "left": null,
            "margin": null,
            "max_height": null,
            "max_width": null,
            "min_height": null,
            "min_width": null,
            "object_fit": null,
            "object_position": null,
            "order": null,
            "overflow": null,
            "overflow_x": null,
            "overflow_y": null,
            "padding": null,
            "right": null,
            "top": null,
            "visibility": null,
            "width": null
          }
        },
        "6680b2827c48474891a8ea544b92b75d": {
          "model_module": "@jupyter-widgets/controls",
          "model_name": "DescriptionStyleModel",
          "model_module_version": "1.5.0",
          "state": {
            "_model_module": "@jupyter-widgets/controls",
            "_model_module_version": "1.5.0",
            "_model_name": "DescriptionStyleModel",
            "_view_count": null,
            "_view_module": "@jupyter-widgets/base",
            "_view_module_version": "1.2.0",
            "_view_name": "StyleView",
            "description_width": ""
          }
        },
        "30f67a69fc1745d1bbad9673155e878c": {
          "model_module": "@jupyter-widgets/controls",
          "model_name": "HBoxModel",
          "model_module_version": "1.5.0",
          "state": {
            "_dom_classes": [],
            "_model_module": "@jupyter-widgets/controls",
            "_model_module_version": "1.5.0",
            "_model_name": "HBoxModel",
            "_view_count": null,
            "_view_module": "@jupyter-widgets/controls",
            "_view_module_version": "1.5.0",
            "_view_name": "HBoxView",
            "box_style": "",
            "children": [
              "IPY_MODEL_ac9f1f02e6594f3da3f2ae1a6a6bf711",
              "IPY_MODEL_c97329392c02414696d9a4ac016f5e71",
              "IPY_MODEL_1a0f2c72e0ec49d883e07ce22d3a08e9"
            ],
            "layout": "IPY_MODEL_dd043e11f9ef41a5947ee0f3f57fc5ee"
          }
        },
        "ac9f1f02e6594f3da3f2ae1a6a6bf711": {
          "model_module": "@jupyter-widgets/controls",
          "model_name": "HTMLModel",
          "model_module_version": "1.5.0",
          "state": {
            "_dom_classes": [],
            "_model_module": "@jupyter-widgets/controls",
            "_model_module_version": "1.5.0",
            "_model_name": "HTMLModel",
            "_view_count": null,
            "_view_module": "@jupyter-widgets/controls",
            "_view_module_version": "1.5.0",
            "_view_name": "HTMLView",
            "description": "",
            "description_tooltip": null,
            "layout": "IPY_MODEL_552e1f2f3a164a78b4be1b9c3a4888c0",
            "placeholder": "​",
            "style": "IPY_MODEL_ee7c6515b2764fe0b9dc5089bbbef134",
            "value": "Downloading: 100%"
          }
        },
        "c97329392c02414696d9a4ac016f5e71": {
          "model_module": "@jupyter-widgets/controls",
          "model_name": "FloatProgressModel",
          "model_module_version": "1.5.0",
          "state": {
            "_dom_classes": [],
            "_model_module": "@jupyter-widgets/controls",
            "_model_module_version": "1.5.0",
            "_model_name": "FloatProgressModel",
            "_view_count": null,
            "_view_module": "@jupyter-widgets/controls",
            "_view_module_version": "1.5.0",
            "_view_name": "ProgressView",
            "bar_style": "success",
            "description": "",
            "description_tooltip": null,
            "layout": "IPY_MODEL_8aa65e5e8d2c4d5796ee443a49b83401",
            "max": 548118077,
            "min": 0,
            "orientation": "horizontal",
            "style": "IPY_MODEL_38498de2d03b4a3fbab4615803b5eb53",
            "value": 548118077
          }
        },
        "1a0f2c72e0ec49d883e07ce22d3a08e9": {
          "model_module": "@jupyter-widgets/controls",
          "model_name": "HTMLModel",
          "model_module_version": "1.5.0",
          "state": {
            "_dom_classes": [],
            "_model_module": "@jupyter-widgets/controls",
            "_model_module_version": "1.5.0",
            "_model_name": "HTMLModel",
            "_view_count": null,
            "_view_module": "@jupyter-widgets/controls",
            "_view_module_version": "1.5.0",
            "_view_name": "HTMLView",
            "description": "",
            "description_tooltip": null,
            "layout": "IPY_MODEL_e97fce1528d84959af57dc13bbac9959",
            "placeholder": "​",
            "style": "IPY_MODEL_f89475dd82d44826a2e42915b8747bed",
            "value": " 523M/523M [00:08&lt;00:00, 69.5MB/s]"
          }
        },
        "dd043e11f9ef41a5947ee0f3f57fc5ee": {
          "model_module": "@jupyter-widgets/base",
          "model_name": "LayoutModel",
          "model_module_version": "1.2.0",
          "state": {
            "_model_module": "@jupyter-widgets/base",
            "_model_module_version": "1.2.0",
            "_model_name": "LayoutModel",
            "_view_count": null,
            "_view_module": "@jupyter-widgets/base",
            "_view_module_version": "1.2.0",
            "_view_name": "LayoutView",
            "align_content": null,
            "align_items": null,
            "align_self": null,
            "border": null,
            "bottom": null,
            "display": null,
            "flex": null,
            "flex_flow": null,
            "grid_area": null,
            "grid_auto_columns": null,
            "grid_auto_flow": null,
            "grid_auto_rows": null,
            "grid_column": null,
            "grid_gap": null,
            "grid_row": null,
            "grid_template_areas": null,
            "grid_template_columns": null,
            "grid_template_rows": null,
            "height": null,
            "justify_content": null,
            "justify_items": null,
            "left": null,
            "margin": null,
            "max_height": null,
            "max_width": null,
            "min_height": null,
            "min_width": null,
            "object_fit": null,
            "object_position": null,
            "order": null,
            "overflow": null,
            "overflow_x": null,
            "overflow_y": null,
            "padding": null,
            "right": null,
            "top": null,
            "visibility": null,
            "width": null
          }
        },
        "552e1f2f3a164a78b4be1b9c3a4888c0": {
          "model_module": "@jupyter-widgets/base",
          "model_name": "LayoutModel",
          "model_module_version": "1.2.0",
          "state": {
            "_model_module": "@jupyter-widgets/base",
            "_model_module_version": "1.2.0",
            "_model_name": "LayoutModel",
            "_view_count": null,
            "_view_module": "@jupyter-widgets/base",
            "_view_module_version": "1.2.0",
            "_view_name": "LayoutView",
            "align_content": null,
            "align_items": null,
            "align_self": null,
            "border": null,
            "bottom": null,
            "display": null,
            "flex": null,
            "flex_flow": null,
            "grid_area": null,
            "grid_auto_columns": null,
            "grid_auto_flow": null,
            "grid_auto_rows": null,
            "grid_column": null,
            "grid_gap": null,
            "grid_row": null,
            "grid_template_areas": null,
            "grid_template_columns": null,
            "grid_template_rows": null,
            "height": null,
            "justify_content": null,
            "justify_items": null,
            "left": null,
            "margin": null,
            "max_height": null,
            "max_width": null,
            "min_height": null,
            "min_width": null,
            "object_fit": null,
            "object_position": null,
            "order": null,
            "overflow": null,
            "overflow_x": null,
            "overflow_y": null,
            "padding": null,
            "right": null,
            "top": null,
            "visibility": null,
            "width": null
          }
        },
        "ee7c6515b2764fe0b9dc5089bbbef134": {
          "model_module": "@jupyter-widgets/controls",
          "model_name": "DescriptionStyleModel",
          "model_module_version": "1.5.0",
          "state": {
            "_model_module": "@jupyter-widgets/controls",
            "_model_module_version": "1.5.0",
            "_model_name": "DescriptionStyleModel",
            "_view_count": null,
            "_view_module": "@jupyter-widgets/base",
            "_view_module_version": "1.2.0",
            "_view_name": "StyleView",
            "description_width": ""
          }
        },
        "8aa65e5e8d2c4d5796ee443a49b83401": {
          "model_module": "@jupyter-widgets/base",
          "model_name": "LayoutModel",
          "model_module_version": "1.2.0",
          "state": {
            "_model_module": "@jupyter-widgets/base",
            "_model_module_version": "1.2.0",
            "_model_name": "LayoutModel",
            "_view_count": null,
            "_view_module": "@jupyter-widgets/base",
            "_view_module_version": "1.2.0",
            "_view_name": "LayoutView",
            "align_content": null,
            "align_items": null,
            "align_self": null,
            "border": null,
            "bottom": null,
            "display": null,
            "flex": null,
            "flex_flow": null,
            "grid_area": null,
            "grid_auto_columns": null,
            "grid_auto_flow": null,
            "grid_auto_rows": null,
            "grid_column": null,
            "grid_gap": null,
            "grid_row": null,
            "grid_template_areas": null,
            "grid_template_columns": null,
            "grid_template_rows": null,
            "height": null,
            "justify_content": null,
            "justify_items": null,
            "left": null,
            "margin": null,
            "max_height": null,
            "max_width": null,
            "min_height": null,
            "min_width": null,
            "object_fit": null,
            "object_position": null,
            "order": null,
            "overflow": null,
            "overflow_x": null,
            "overflow_y": null,
            "padding": null,
            "right": null,
            "top": null,
            "visibility": null,
            "width": null
          }
        },
        "38498de2d03b4a3fbab4615803b5eb53": {
          "model_module": "@jupyter-widgets/controls",
          "model_name": "ProgressStyleModel",
          "model_module_version": "1.5.0",
          "state": {
            "_model_module": "@jupyter-widgets/controls",
            "_model_module_version": "1.5.0",
            "_model_name": "ProgressStyleModel",
            "_view_count": null,
            "_view_module": "@jupyter-widgets/base",
            "_view_module_version": "1.2.0",
            "_view_name": "StyleView",
            "bar_color": null,
            "description_width": ""
          }
        },
        "e97fce1528d84959af57dc13bbac9959": {
          "model_module": "@jupyter-widgets/base",
          "model_name": "LayoutModel",
          "model_module_version": "1.2.0",
          "state": {
            "_model_module": "@jupyter-widgets/base",
            "_model_module_version": "1.2.0",
            "_model_name": "LayoutModel",
            "_view_count": null,
            "_view_module": "@jupyter-widgets/base",
            "_view_module_version": "1.2.0",
            "_view_name": "LayoutView",
            "align_content": null,
            "align_items": null,
            "align_self": null,
            "border": null,
            "bottom": null,
            "display": null,
            "flex": null,
            "flex_flow": null,
            "grid_area": null,
            "grid_auto_columns": null,
            "grid_auto_flow": null,
            "grid_auto_rows": null,
            "grid_column": null,
            "grid_gap": null,
            "grid_row": null,
            "grid_template_areas": null,
            "grid_template_columns": null,
            "grid_template_rows": null,
            "height": null,
            "justify_content": null,
            "justify_items": null,
            "left": null,
            "margin": null,
            "max_height": null,
            "max_width": null,
            "min_height": null,
            "min_width": null,
            "object_fit": null,
            "object_position": null,
            "order": null,
            "overflow": null,
            "overflow_x": null,
            "overflow_y": null,
            "padding": null,
            "right": null,
            "top": null,
            "visibility": null,
            "width": null
          }
        },
        "f89475dd82d44826a2e42915b8747bed": {
          "model_module": "@jupyter-widgets/controls",
          "model_name": "DescriptionStyleModel",
          "model_module_version": "1.5.0",
          "state": {
            "_model_module": "@jupyter-widgets/controls",
            "_model_module_version": "1.5.0",
            "_model_name": "DescriptionStyleModel",
            "_view_count": null,
            "_view_module": "@jupyter-widgets/base",
            "_view_module_version": "1.2.0",
            "_view_name": "StyleView",
            "description_width": ""
          }
        }
      }
    }
  },
  "cells": [
    {
      "cell_type": "markdown",
      "metadata": {
        "id": "SgNZTjrhcHa0"
      },
      "source": [
        "# CSE 156:  NLP UCSD, Programming Assignment 4\n",
        "## Text Decoding From GPT-2 using Beam Search (40 points)\n",
        "### <font color='blue'> Due: Dec 2, 2024 </font>\n",
        "\n",
        "###### IMPORTANT: After copying this notebook to your Google Drive, paste a link to it below. To get a publicly-accessible link, click the *Share* button at the top right, then click \"Get shareable link\" and copy the link.\n",
        "#### <font color=\"red\">Link: paste your link here:  </font>\n",
        "\n",
        "\n",
        "https://colab.research.google.com/drive/1PlrxxmZC_IUUiS09h5X-X6YlQtCaSRaP?usp=sharing\n",
        "\n",
        "---\n",
        "**Notes:**\n",
        "\n",
        "Make sure to save the notebook as you go along.\n",
        "\n",
        "Submission instructions are located at the bottom of the notebook."
      ]
    },
    {
      "cell_type": "markdown",
      "metadata": {
        "id": "d23zfO_ALKeB"
      },
      "source": [
        "# Part 0: Setup"
      ]
    },
    {
      "cell_type": "markdown",
      "metadata": {
        "id": "N25dvF4jvYoy"
      },
      "source": [
        "## Adding a hardware accelerator\n",
        "Go to the menu and add a GPU as follows:\n",
        "\n",
        "`Edit > Notebook Settings > Hardware accelerator > (GPU)`\n",
        "\n",
        "Run the following cell to confirm that the GPU is detected."
      ]
    },
    {
      "cell_type": "code",
      "metadata": {
        "id": "edOh9ooiIW1B",
        "colab": {
          "base_uri": "https://localhost:8080/"
        },
        "outputId": "fd094c4a-7e2e-4985-92be-3c171116bf28"
      },
      "source": [
        "import torch\n",
        "\n",
        "# Confirm that the GPU is detected\n",
        "assert torch.cuda.is_available()\n",
        "\n",
        "# Get the GPU device name.\n",
        "device_name = torch.cuda.get_device_name()\n",
        "n_gpu = torch.cuda.device_count()\n",
        "print(f\"Found device: {device_name}, n_gpu: {n_gpu}\")"
      ],
      "execution_count": null,
      "outputs": [
        {
          "output_type": "stream",
          "name": "stdout",
          "text": [
            "Found device: Tesla T4, n_gpu: 1\n"
          ]
        }
      ]
    },
    {
      "cell_type": "markdown",
      "metadata": {
        "id": "xrvH7xx9LnMC"
      },
      "source": [
        "## Installing Hugging Face's Transformers and Additional Libraries\n",
        "We will use Hugging Face's Transformers (https://github.com/huggingface/transformers).\n",
        "\n",
        "Run the following cell to install Hugging Face's Transformers library and some other useful tools."
      ]
    },
    {
      "cell_type": "code",
      "metadata": {
        "id": "gtqS2e5fxpqa",
        "colab": {
          "base_uri": "https://localhost:8080/"
        },
        "outputId": "7729bf79-e2d4-4143-9b50-6ede8e2ac486"
      },
      "source": [
        "pip install -q sentence-transformers==2.2.2 transformers==4.17.0"
      ],
      "execution_count": null,
      "outputs": [
        {
          "output_type": "stream",
          "name": "stdout",
          "text": [
            "\u001b[?25l     \u001b[90m━━━━━━━━━━━━━━━━━━━━━━━━━━━━━━━━━━━━━━━━\u001b[0m \u001b[32m0.0/86.0 kB\u001b[0m \u001b[31m?\u001b[0m eta \u001b[36m-:--:--\u001b[0m\r\u001b[2K     \u001b[90m━━━━━━━━━━━━━━━━━━━━━━━━━━━━━━━━━━━━━━━━\u001b[0m \u001b[32m86.0/86.0 kB\u001b[0m \u001b[31m3.6 MB/s\u001b[0m eta \u001b[36m0:00:00\u001b[0m\n",
            "\u001b[?25h  Preparing metadata (setup.py) ... \u001b[?25l\u001b[?25hdone\n",
            "\u001b[2K     \u001b[90m━━━━━━━━━━━━━━━━━━━━━━━━━━━━━━━━━━━━━━━━\u001b[0m \u001b[32m67.9/67.9 kB\u001b[0m \u001b[31m3.8 MB/s\u001b[0m eta \u001b[36m0:00:00\u001b[0m\n",
            "\u001b[2K   \u001b[90m━━━━━━━━━━━━━━━━━━━━━━━━━━━━━━━━━━━━━━━━\u001b[0m \u001b[32m3.8/3.8 MB\u001b[0m \u001b[31m39.5 MB/s\u001b[0m eta \u001b[36m0:00:00\u001b[0m\n",
            "\u001b[2K   \u001b[90m━━━━━━━━━━━━━━━━━━━━━━━━━━━━━━━━━━━━━━━━\u001b[0m \u001b[32m897.5/897.5 kB\u001b[0m \u001b[31m29.9 MB/s\u001b[0m eta \u001b[36m0:00:00\u001b[0m\n",
            "\u001b[?25h  Building wheel for sentence-transformers (setup.py) ... \u001b[?25l\u001b[?25hdone\n"
          ]
        }
      ]
    },
    {
      "cell_type": "markdown",
      "source": [
        "# Part 1. Beam Search\n",
        "We are going to explore decoding from a pretrained GPT-2 model using beam search. Run the below cell to set up some beam search utilities."
      ],
      "metadata": {
        "id": "sa5Q_y4huAUm"
      }
    },
    {
      "cell_type": "code",
      "source": [
        "from transformers import GPT2LMHeadModel, GPT2Tokenizer\n",
        "\n",
        "tokenizer = GPT2Tokenizer.from_pretrained(\"gpt2\")\n",
        "model = GPT2LMHeadModel.from_pretrained(\"gpt2\", pad_token_id=tokenizer.eos_token_id)\n",
        "\n",
        "# Beam Search\n",
        "\n",
        "def init_beam_search(model, input_ids, num_beams):\n",
        "    assert len(input_ids.shape) == 2\n",
        "    beam_scores = torch.zeros(num_beams, dtype=torch.float32, device=model.device)\n",
        "    beam_scores[1:] = -1e9 # Break ties in first round.\n",
        "    new_input_ids = input_ids.repeat_interleave(num_beams, dim=0).to(model.device)\n",
        "    return new_input_ids, beam_scores\n",
        "\n",
        "\n",
        "def run_beam_search_(model, tokenizer, input_text, num_beams=5, num_decode_steps=10, score_processors=[], to_cpu=True):\n",
        "\n",
        "    input_ids = tokenizer.encode(input_text, return_tensors='pt')\n",
        "\n",
        "    input_ids, beam_scores = init_beam_search(model, input_ids, num_beams)\n",
        "\n",
        "    token_scores = beam_scores.clone().view(num_beams, 1)\n",
        "\n",
        "    model_kwargs = {}\n",
        "    for i in range(num_decode_steps):\n",
        "        model_inputs = model.prepare_inputs_for_generation(input_ids, **model_kwargs)\n",
        "        outputs = model(**model_inputs, return_dict=True)\n",
        "        next_token_logits = outputs.logits[:, -1, :]\n",
        "        vocab_size = next_token_logits.shape[-1]\n",
        "        this_token_scores = torch.log_softmax(next_token_logits, -1)\n",
        "\n",
        "        # Process token scores.\n",
        "        processed_token_scores = this_token_scores\n",
        "        for processor in score_processors:\n",
        "            processed_token_scores = processor(input_ids, processed_token_scores)\n",
        "\n",
        "        # Update beam scores.\n",
        "        next_token_scores = processed_token_scores + beam_scores.unsqueeze(-1)\n",
        "\n",
        "        # Reshape for beam-search.\n",
        "        next_token_scores = next_token_scores.view(num_beams * vocab_size)\n",
        "\n",
        "        # Find top-scoring beams.\n",
        "        next_token_scores, next_tokens = torch.topk(\n",
        "            next_token_scores, num_beams, dim=0, largest=True, sorted=True\n",
        "        )\n",
        "\n",
        "        # Transform tokens since we reshaped earlier.\n",
        "        next_indices = torch.div(next_tokens, vocab_size, rounding_mode=\"floor\") # This is equivalent to `next_tokens // vocab_size`\n",
        "        next_tokens = next_tokens % vocab_size\n",
        "\n",
        "        # Update tokens.\n",
        "        input_ids = torch.cat([input_ids[next_indices, :], next_tokens.unsqueeze(-1)], dim=-1)\n",
        "\n",
        "        # Update beam scores.\n",
        "        beam_scores = next_token_scores\n",
        "\n",
        "        # Update token scores.\n",
        "\n",
        "        # UNCOMMENT: To use original scores instead.\n",
        "        # token_scores = torch.cat([token_scores[next_indices, :], this_token_scores[next_indices, next_tokens].unsqueeze(-1)], dim=-1)\n",
        "        token_scores = torch.cat([token_scores[next_indices, :], processed_token_scores[next_indices, next_tokens].unsqueeze(-1)], dim=-1)\n",
        "\n",
        "        # Update hidden state.\n",
        "        model_kwargs = model._update_model_kwargs_for_generation(outputs, model_kwargs, is_encoder_decoder=False)\n",
        "        model_kwargs[\"past\"] = model._reorder_cache(model_kwargs[\"past\"], next_indices)\n",
        "\n",
        "    def transfer(x):\n",
        "      return x.cpu() if to_cpu else x\n",
        "\n",
        "    return {\n",
        "        \"output_ids\": transfer(input_ids),\n",
        "        \"beam_scores\": transfer(beam_scores),\n",
        "        \"token_scores\": transfer(token_scores)\n",
        "    }\n",
        "\n",
        "\n",
        "def run_beam_search(*args, **kwargs):\n",
        "    with torch.inference_mode():\n",
        "        return run_beam_search_(*args, **kwargs)\n",
        "\n",
        "\n",
        "# Add support for colored printing and plotting.\n",
        "\n",
        "from rich import print as rich_print\n",
        "\n",
        "import numpy as np\n",
        "\n",
        "import matplotlib\n",
        "from matplotlib import pyplot as plt\n",
        "from matplotlib import cm\n",
        "\n",
        "RICH_x = np.linspace(0.0, 1.0, 50)\n",
        "RICH_rgb = (matplotlib.colormaps.get_cmap(plt.get_cmap('RdYlBu'))(RICH_x)[:, :3] * 255).astype(np.int32)[range(5, 45, 5)]\n",
        "\n",
        "\n",
        "def print_with_probs(words, probs, prefix=None):\n",
        "  def fmt(x, p, is_first=False):\n",
        "    ix = int(p * RICH_rgb.shape[0])\n",
        "    r, g, b = RICH_rgb[ix]\n",
        "    if is_first:\n",
        "      return f'[bold rgb(0,0,0) on rgb({r},{g},{b})]{x}'\n",
        "    else:\n",
        "      return f'[bold rgb(0,0,0) on rgb({r},{g},{b})] {x}'\n",
        "  output = []\n",
        "  if prefix is not None:\n",
        "    output.append(prefix)\n",
        "  for i, (x, p) in enumerate(zip(words, probs)):\n",
        "    output.append(fmt(x, p, is_first=i == 0))\n",
        "  rich_print(''.join(output))\n",
        "\n",
        "# DEMO\n",
        "\n",
        "# Show range of colors.\n",
        "\n",
        "for i in range(RICH_rgb.shape[0]):\n",
        "  r, g, b = RICH_rgb[i]\n",
        "  rich_print(f'[bold rgb(0,0,0) on rgb({r},{g},{b})]hello world rgb({r},{g},{b})')\n",
        "\n",
        "# Example with words and probabilities.\n",
        "\n",
        "words = ['the', 'brown', 'fox']\n",
        "probs = [0.14, 0.83, 0.5]\n",
        "print_with_probs(words, probs)"
      ],
      "metadata": {
        "id": "bgUbrB6ht_ch",
        "colab": {
          "base_uri": "https://localhost:8080/",
          "height": 375,
          "referenced_widgets": [
            "a3d228eebbd747909eafda76bea7ac8f",
            "2efaaf07515441ebb14d43b869a8ea81",
            "c7757df363984c999387116898c2782c",
            "048f1554256047859a4f940b65d6b901",
            "018f8ed0250f4f31a0adf43713674ada",
            "67cb1c7327604287b6d3e84ac05e999b",
            "270c987082df42f49b0d145795e68716",
            "b51f21e158614f1eaf9c22e532ad5d64",
            "5ea396e0c9934b55bc1b6638ba244462",
            "02760e0417ee4a3d93f11df511db3ec2",
            "8830bd83c560413e9a223f5abea0a4fb",
            "14a3c947b1274d928217d9ffbc7552b8",
            "bd02777f34724c3c81feca35b16b31ea",
            "24481487e12447b59158d52d15f8529e",
            "a583fe3991a64d64a5f478d72ed35862",
            "49792d2b5cf741859e390314c2962a76",
            "47d3e15971aa4af9bd09c8269e781d05",
            "387dbde0ce44451cae74550d8c63dd31",
            "a3657eb42c0f4656820f642bf256cd7a",
            "c10b883d117a4fdb86e4ccafd7b52983",
            "9df9c02a668447219c752a279711dfb7",
            "257a83afe3b74300b7a4d3d59e6f72ea",
            "2e01b6e2dc64477287e3411bcfb874e4",
            "a25a38ba475e4507a3584dfde18a84a2",
            "05eb650cb130402e97b5eaac04cb7d78",
            "25e11f4bcc2b4effb476125b9521eee8",
            "6ae02a8169cb4fc196156dcedbcccfc1",
            "1add255a9bea4f0b91baaf858c0a2b2a",
            "5e38deb493214901b4f8f51f45604656",
            "7398f2b134004c70b5f566c88830757a",
            "f3f6bbb88cbd4a73a0710a03f9ed207d",
            "2fe30c06e19643c98c6a1012e0714c9c",
            "7c594025e8b04604bd742edaebf50393",
            "a284adb3797f45dbb9e447083f17abda",
            "24075cbf34d348599746bbe8bed302ca",
            "e53d8c038ba7475e9cc87b8bb9094df7",
            "38beddf3f8124f189d44fc16c7046cc0",
            "480ef88a2e604917a42eb03b031cc309",
            "4e96dc411939475aa6a01ccbe416b676",
            "4e5788aa115b4cc3aad83b6eccb568af",
            "39aaad166bd14220a79eb138695dab42",
            "94e01b2cbbfd4bae902a9bcb4789576b",
            "426990f5034b4049802b4a6fdcf954cd",
            "6680b2827c48474891a8ea544b92b75d",
            "30f67a69fc1745d1bbad9673155e878c",
            "ac9f1f02e6594f3da3f2ae1a6a6bf711",
            "c97329392c02414696d9a4ac016f5e71",
            "1a0f2c72e0ec49d883e07ce22d3a08e9",
            "dd043e11f9ef41a5947ee0f3f57fc5ee",
            "552e1f2f3a164a78b4be1b9c3a4888c0",
            "ee7c6515b2764fe0b9dc5089bbbef134",
            "8aa65e5e8d2c4d5796ee443a49b83401",
            "38498de2d03b4a3fbab4615803b5eb53",
            "e97fce1528d84959af57dc13bbac9959",
            "f89475dd82d44826a2e42915b8747bed"
          ]
        },
        "outputId": "053c9182-36b7-4b52-f0b6-29ef30c8097a"
      },
      "execution_count": null,
      "outputs": [
        {
          "output_type": "display_data",
          "data": {
            "text/plain": [
              "Downloading:   0%|          | 0.00/0.99M [00:00<?, ?B/s]"
            ],
            "application/vnd.jupyter.widget-view+json": {
              "version_major": 2,
              "version_minor": 0,
              "model_id": "a3d228eebbd747909eafda76bea7ac8f"
            }
          },
          "metadata": {}
        },
        {
          "output_type": "display_data",
          "data": {
            "text/plain": [
              "Downloading:   0%|          | 0.00/446k [00:00<?, ?B/s]"
            ],
            "application/vnd.jupyter.widget-view+json": {
              "version_major": 2,
              "version_minor": 0,
              "model_id": "14a3c947b1274d928217d9ffbc7552b8"
            }
          },
          "metadata": {}
        },
        {
          "output_type": "display_data",
          "data": {
            "text/plain": [
              "Downloading:   0%|          | 0.00/26.0 [00:00<?, ?B/s]"
            ],
            "application/vnd.jupyter.widget-view+json": {
              "version_major": 2,
              "version_minor": 0,
              "model_id": "2e01b6e2dc64477287e3411bcfb874e4"
            }
          },
          "metadata": {}
        },
        {
          "output_type": "display_data",
          "data": {
            "text/plain": [
              "Downloading:   0%|          | 0.00/665 [00:00<?, ?B/s]"
            ],
            "application/vnd.jupyter.widget-view+json": {
              "version_major": 2,
              "version_minor": 0,
              "model_id": "a284adb3797f45dbb9e447083f17abda"
            }
          },
          "metadata": {}
        },
        {
          "output_type": "display_data",
          "data": {
            "text/plain": [
              "Downloading:   0%|          | 0.00/523M [00:00<?, ?B/s]"
            ],
            "application/vnd.jupyter.widget-view+json": {
              "version_major": 2,
              "version_minor": 0,
              "model_id": "30f67a69fc1745d1bbad9673155e878c"
            }
          },
          "metadata": {}
        },
        {
          "output_type": "stream",
          "name": "stderr",
          "text": [
            "/usr/local/lib/python3.10/dist-packages/transformers/modeling_utils.py:1439: FutureWarning: You are using `torch.load` with `weights_only=False` (the current default value), which uses the default pickle module implicitly. It is possible to construct malicious pickle data which will execute arbitrary code during unpickling (See https://github.com/pytorch/pytorch/blob/main/SECURITY.md#untrusted-models for more details). In a future release, the default value for `weights_only` will be flipped to `True`. This limits the functions that could be executed during unpickling. Arbitrary objects will no longer be allowed to be loaded via this mode unless they are explicitly allowlisted by the user via `torch.serialization.add_safe_globals`. We recommend you start setting `weights_only=True` for any use case where you don't have full control of the loaded file. Please open an issue on GitHub for any issues related to this experimental feature.\n",
            "  state_dict = torch.load(resolved_archive_file, map_location=\"cpu\")\n"
          ]
        },
        {
          "output_type": "display_data",
          "data": {
            "text/plain": [
              "\u001b[1;38;2;0;0;0;48;2;215;49;39mhello world \u001b[0m\u001b[1;38;2;0;0;0;48;2;215;49;39mrgb\u001b[0m\u001b[1;38;2;0;0;0;48;2;215;49;39m(\u001b[0m\u001b[1;38;2;0;0;0;48;2;215;49;39m215\u001b[0m\u001b[1;38;2;0;0;0;48;2;215;49;39m,\u001b[0m\u001b[1;38;2;0;0;0;48;2;215;49;39m49\u001b[0m\u001b[1;38;2;0;0;0;48;2;215;49;39m,\u001b[0m\u001b[1;38;2;0;0;0;48;2;215;49;39m39\u001b[0m\u001b[1;38;2;0;0;0;48;2;215;49;39m)\u001b[0m\n"
            ],
            "text/html": [
              "<pre style=\"white-space:pre;overflow-x:auto;line-height:normal;font-family:Menlo,'DejaVu Sans Mono',consolas,'Courier New',monospace\"><span style=\"color: #000000; text-decoration-color: #000000; background-color: #d73127; font-weight: bold\">hello world rgb(</span><span style=\"color: #000000; text-decoration-color: #000000; background-color: #d73127; font-weight: bold\">215</span><span style=\"color: #000000; text-decoration-color: #000000; background-color: #d73127; font-weight: bold\">,</span><span style=\"color: #000000; text-decoration-color: #000000; background-color: #d73127; font-weight: bold\">49</span><span style=\"color: #000000; text-decoration-color: #000000; background-color: #d73127; font-weight: bold\">,</span><span style=\"color: #000000; text-decoration-color: #000000; background-color: #d73127; font-weight: bold\">39</span><span style=\"color: #000000; text-decoration-color: #000000; background-color: #d73127; font-weight: bold\">)</span>\n",
              "</pre>\n"
            ]
          },
          "metadata": {}
        },
        {
          "output_type": "display_data",
          "data": {
            "text/plain": [
              "\u001b[1;38;2;0;0;0;48;2;244;111;68mhello world \u001b[0m\u001b[1;38;2;0;0;0;48;2;244;111;68mrgb\u001b[0m\u001b[1;38;2;0;0;0;48;2;244;111;68m(\u001b[0m\u001b[1;38;2;0;0;0;48;2;244;111;68m244\u001b[0m\u001b[1;38;2;0;0;0;48;2;244;111;68m,\u001b[0m\u001b[1;38;2;0;0;0;48;2;244;111;68m111\u001b[0m\u001b[1;38;2;0;0;0;48;2;244;111;68m,\u001b[0m\u001b[1;38;2;0;0;0;48;2;244;111;68m68\u001b[0m\u001b[1;38;2;0;0;0;48;2;244;111;68m)\u001b[0m\n"
            ],
            "text/html": [
              "<pre style=\"white-space:pre;overflow-x:auto;line-height:normal;font-family:Menlo,'DejaVu Sans Mono',consolas,'Courier New',monospace\"><span style=\"color: #000000; text-decoration-color: #000000; background-color: #f46f44; font-weight: bold\">hello world rgb(</span><span style=\"color: #000000; text-decoration-color: #000000; background-color: #f46f44; font-weight: bold\">244</span><span style=\"color: #000000; text-decoration-color: #000000; background-color: #f46f44; font-weight: bold\">,</span><span style=\"color: #000000; text-decoration-color: #000000; background-color: #f46f44; font-weight: bold\">111</span><span style=\"color: #000000; text-decoration-color: #000000; background-color: #f46f44; font-weight: bold\">,</span><span style=\"color: #000000; text-decoration-color: #000000; background-color: #f46f44; font-weight: bold\">68</span><span style=\"color: #000000; text-decoration-color: #000000; background-color: #f46f44; font-weight: bold\">)</span>\n",
              "</pre>\n"
            ]
          },
          "metadata": {}
        },
        {
          "output_type": "display_data",
          "data": {
            "text/plain": [
              "\u001b[1;38;2;0;0;0;48;2;253;176;99mhello world \u001b[0m\u001b[1;38;2;0;0;0;48;2;253;176;99mrgb\u001b[0m\u001b[1;38;2;0;0;0;48;2;253;176;99m(\u001b[0m\u001b[1;38;2;0;0;0;48;2;253;176;99m253\u001b[0m\u001b[1;38;2;0;0;0;48;2;253;176;99m,\u001b[0m\u001b[1;38;2;0;0;0;48;2;253;176;99m176\u001b[0m\u001b[1;38;2;0;0;0;48;2;253;176;99m,\u001b[0m\u001b[1;38;2;0;0;0;48;2;253;176;99m99\u001b[0m\u001b[1;38;2;0;0;0;48;2;253;176;99m)\u001b[0m\n"
            ],
            "text/html": [
              "<pre style=\"white-space:pre;overflow-x:auto;line-height:normal;font-family:Menlo,'DejaVu Sans Mono',consolas,'Courier New',monospace\"><span style=\"color: #000000; text-decoration-color: #000000; background-color: #fdb063; font-weight: bold\">hello world rgb(</span><span style=\"color: #000000; text-decoration-color: #000000; background-color: #fdb063; font-weight: bold\">253</span><span style=\"color: #000000; text-decoration-color: #000000; background-color: #fdb063; font-weight: bold\">,</span><span style=\"color: #000000; text-decoration-color: #000000; background-color: #fdb063; font-weight: bold\">176</span><span style=\"color: #000000; text-decoration-color: #000000; background-color: #fdb063; font-weight: bold\">,</span><span style=\"color: #000000; text-decoration-color: #000000; background-color: #fdb063; font-weight: bold\">99</span><span style=\"color: #000000; text-decoration-color: #000000; background-color: #fdb063; font-weight: bold\">)</span>\n",
              "</pre>\n"
            ]
          },
          "metadata": {}
        },
        {
          "output_type": "display_data",
          "data": {
            "text/plain": [
              "\u001b[1;38;2;0;0;0;48;2;254;226;147mhello world \u001b[0m\u001b[1;38;2;0;0;0;48;2;254;226;147mrgb\u001b[0m\u001b[1;38;2;0;0;0;48;2;254;226;147m(\u001b[0m\u001b[1;38;2;0;0;0;48;2;254;226;147m254\u001b[0m\u001b[1;38;2;0;0;0;48;2;254;226;147m,\u001b[0m\u001b[1;38;2;0;0;0;48;2;254;226;147m226\u001b[0m\u001b[1;38;2;0;0;0;48;2;254;226;147m,\u001b[0m\u001b[1;38;2;0;0;0;48;2;254;226;147m147\u001b[0m\u001b[1;38;2;0;0;0;48;2;254;226;147m)\u001b[0m\n"
            ],
            "text/html": [
              "<pre style=\"white-space:pre;overflow-x:auto;line-height:normal;font-family:Menlo,'DejaVu Sans Mono',consolas,'Courier New',monospace\"><span style=\"color: #000000; text-decoration-color: #000000; background-color: #fee293; font-weight: bold\">hello world rgb(</span><span style=\"color: #000000; text-decoration-color: #000000; background-color: #fee293; font-weight: bold\">254</span><span style=\"color: #000000; text-decoration-color: #000000; background-color: #fee293; font-weight: bold\">,</span><span style=\"color: #000000; text-decoration-color: #000000; background-color: #fee293; font-weight: bold\">226</span><span style=\"color: #000000; text-decoration-color: #000000; background-color: #fee293; font-weight: bold\">,</span><span style=\"color: #000000; text-decoration-color: #000000; background-color: #fee293; font-weight: bold\">147</span><span style=\"color: #000000; text-decoration-color: #000000; background-color: #fee293; font-weight: bold\">)</span>\n",
              "</pre>\n"
            ]
          },
          "metadata": {}
        },
        {
          "output_type": "display_data",
          "data": {
            "text/plain": [
              "\u001b[1;38;2;0;0;0;48;2;251;253;196mhello world \u001b[0m\u001b[1;38;2;0;0;0;48;2;251;253;196mrgb\u001b[0m\u001b[1;38;2;0;0;0;48;2;251;253;196m(\u001b[0m\u001b[1;38;2;0;0;0;48;2;251;253;196m251\u001b[0m\u001b[1;38;2;0;0;0;48;2;251;253;196m,\u001b[0m\u001b[1;38;2;0;0;0;48;2;251;253;196m253\u001b[0m\u001b[1;38;2;0;0;0;48;2;251;253;196m,\u001b[0m\u001b[1;38;2;0;0;0;48;2;251;253;196m196\u001b[0m\u001b[1;38;2;0;0;0;48;2;251;253;196m)\u001b[0m\n"
            ],
            "text/html": [
              "<pre style=\"white-space:pre;overflow-x:auto;line-height:normal;font-family:Menlo,'DejaVu Sans Mono',consolas,'Courier New',monospace\"><span style=\"color: #000000; text-decoration-color: #000000; background-color: #fbfdc4; font-weight: bold\">hello world rgb(</span><span style=\"color: #000000; text-decoration-color: #000000; background-color: #fbfdc4; font-weight: bold\">251</span><span style=\"color: #000000; text-decoration-color: #000000; background-color: #fbfdc4; font-weight: bold\">,</span><span style=\"color: #000000; text-decoration-color: #000000; background-color: #fbfdc4; font-weight: bold\">253</span><span style=\"color: #000000; text-decoration-color: #000000; background-color: #fbfdc4; font-weight: bold\">,</span><span style=\"color: #000000; text-decoration-color: #000000; background-color: #fbfdc4; font-weight: bold\">196</span><span style=\"color: #000000; text-decoration-color: #000000; background-color: #fbfdc4; font-weight: bold\">)</span>\n",
              "</pre>\n"
            ]
          },
          "metadata": {}
        },
        {
          "output_type": "display_data",
          "data": {
            "text/plain": [
              "\u001b[1;38;2;0;0;0;48;2;217;239;246mhello world \u001b[0m\u001b[1;38;2;0;0;0;48;2;217;239;246mrgb\u001b[0m\u001b[1;38;2;0;0;0;48;2;217;239;246m(\u001b[0m\u001b[1;38;2;0;0;0;48;2;217;239;246m217\u001b[0m\u001b[1;38;2;0;0;0;48;2;217;239;246m,\u001b[0m\u001b[1;38;2;0;0;0;48;2;217;239;246m239\u001b[0m\u001b[1;38;2;0;0;0;48;2;217;239;246m,\u001b[0m\u001b[1;38;2;0;0;0;48;2;217;239;246m246\u001b[0m\u001b[1;38;2;0;0;0;48;2;217;239;246m)\u001b[0m\n"
            ],
            "text/html": [
              "<pre style=\"white-space:pre;overflow-x:auto;line-height:normal;font-family:Menlo,'DejaVu Sans Mono',consolas,'Courier New',monospace\"><span style=\"color: #000000; text-decoration-color: #000000; background-color: #d9eff6; font-weight: bold\">hello world rgb(</span><span style=\"color: #000000; text-decoration-color: #000000; background-color: #d9eff6; font-weight: bold\">217</span><span style=\"color: #000000; text-decoration-color: #000000; background-color: #d9eff6; font-weight: bold\">,</span><span style=\"color: #000000; text-decoration-color: #000000; background-color: #d9eff6; font-weight: bold\">239</span><span style=\"color: #000000; text-decoration-color: #000000; background-color: #d9eff6; font-weight: bold\">,</span><span style=\"color: #000000; text-decoration-color: #000000; background-color: #d9eff6; font-weight: bold\">246</span><span style=\"color: #000000; text-decoration-color: #000000; background-color: #d9eff6; font-weight: bold\">)</span>\n",
              "</pre>\n"
            ]
          },
          "metadata": {}
        },
        {
          "output_type": "display_data",
          "data": {
            "text/plain": [
              "\u001b[1;38;2;0;0;0;48;2;163;210;229mhello world \u001b[0m\u001b[1;38;2;0;0;0;48;2;163;210;229mrgb\u001b[0m\u001b[1;38;2;0;0;0;48;2;163;210;229m(\u001b[0m\u001b[1;38;2;0;0;0;48;2;163;210;229m163\u001b[0m\u001b[1;38;2;0;0;0;48;2;163;210;229m,\u001b[0m\u001b[1;38;2;0;0;0;48;2;163;210;229m210\u001b[0m\u001b[1;38;2;0;0;0;48;2;163;210;229m,\u001b[0m\u001b[1;38;2;0;0;0;48;2;163;210;229m229\u001b[0m\u001b[1;38;2;0;0;0;48;2;163;210;229m)\u001b[0m\n"
            ],
            "text/html": [
              "<pre style=\"white-space:pre;overflow-x:auto;line-height:normal;font-family:Menlo,'DejaVu Sans Mono',consolas,'Courier New',monospace\"><span style=\"color: #000000; text-decoration-color: #000000; background-color: #a3d2e5; font-weight: bold\">hello world rgb(</span><span style=\"color: #000000; text-decoration-color: #000000; background-color: #a3d2e5; font-weight: bold\">163</span><span style=\"color: #000000; text-decoration-color: #000000; background-color: #a3d2e5; font-weight: bold\">,</span><span style=\"color: #000000; text-decoration-color: #000000; background-color: #a3d2e5; font-weight: bold\">210</span><span style=\"color: #000000; text-decoration-color: #000000; background-color: #a3d2e5; font-weight: bold\">,</span><span style=\"color: #000000; text-decoration-color: #000000; background-color: #a3d2e5; font-weight: bold\">229</span><span style=\"color: #000000; text-decoration-color: #000000; background-color: #a3d2e5; font-weight: bold\">)</span>\n",
              "</pre>\n"
            ]
          },
          "metadata": {}
        },
        {
          "output_type": "display_data",
          "data": {
            "text/plain": [
              "\u001b[1;38;2;0;0;0;48;2;108;164;204mhello world \u001b[0m\u001b[1;38;2;0;0;0;48;2;108;164;204mrgb\u001b[0m\u001b[1;38;2;0;0;0;48;2;108;164;204m(\u001b[0m\u001b[1;38;2;0;0;0;48;2;108;164;204m108\u001b[0m\u001b[1;38;2;0;0;0;48;2;108;164;204m,\u001b[0m\u001b[1;38;2;0;0;0;48;2;108;164;204m164\u001b[0m\u001b[1;38;2;0;0;0;48;2;108;164;204m,\u001b[0m\u001b[1;38;2;0;0;0;48;2;108;164;204m204\u001b[0m\u001b[1;38;2;0;0;0;48;2;108;164;204m)\u001b[0m\n"
            ],
            "text/html": [
              "<pre style=\"white-space:pre;overflow-x:auto;line-height:normal;font-family:Menlo,'DejaVu Sans Mono',consolas,'Courier New',monospace\"><span style=\"color: #000000; text-decoration-color: #000000; background-color: #6ca4cc; font-weight: bold\">hello world rgb(</span><span style=\"color: #000000; text-decoration-color: #000000; background-color: #6ca4cc; font-weight: bold\">108</span><span style=\"color: #000000; text-decoration-color: #000000; background-color: #6ca4cc; font-weight: bold\">,</span><span style=\"color: #000000; text-decoration-color: #000000; background-color: #6ca4cc; font-weight: bold\">164</span><span style=\"color: #000000; text-decoration-color: #000000; background-color: #6ca4cc; font-weight: bold\">,</span><span style=\"color: #000000; text-decoration-color: #000000; background-color: #6ca4cc; font-weight: bold\">204</span><span style=\"color: #000000; text-decoration-color: #000000; background-color: #6ca4cc; font-weight: bold\">)</span>\n",
              "</pre>\n"
            ]
          },
          "metadata": {}
        },
        {
          "output_type": "display_data",
          "data": {
            "text/plain": [
              "\u001b[1;38;2;0;0;0;48;2;244;111;68mthe\u001b[0m\u001b[1;38;2;0;0;0;48;2;163;210;229m brown\u001b[0m\u001b[1;38;2;0;0;0;48;2;251;253;196m fox\u001b[0m\n"
            ],
            "text/html": [
              "<pre style=\"white-space:pre;overflow-x:auto;line-height:normal;font-family:Menlo,'DejaVu Sans Mono',consolas,'Courier New',monospace\"><span style=\"color: #000000; text-decoration-color: #000000; background-color: #f46f44; font-weight: bold\">the</span><span style=\"color: #000000; text-decoration-color: #000000; background-color: #a3d2e5; font-weight: bold\"> brown</span><span style=\"color: #000000; text-decoration-color: #000000; background-color: #fbfdc4; font-weight: bold\"> fox</span>\n",
              "</pre>\n"
            ]
          },
          "metadata": {}
        }
      ]
    },
    {
      "cell_type": "markdown",
      "source": [
        "## Question 1.1 (5 points)\n",
        "\n",
        "Run the cell below. It produces a sequence of tokens using beam search and the provided prefix."
      ],
      "metadata": {
        "id": "lbieUEZViMJy"
      }
    },
    {
      "cell_type": "code",
      "source": [
        "num_beams = 5\n",
        "num_decode_steps = 10\n",
        "input_text = 'The brown fox jumps'\n",
        "\n",
        "beam_output = run_beam_search(model, tokenizer, input_text, num_beams=num_beams, num_decode_steps=num_decode_steps)\n",
        "for i, tokens in enumerate(beam_output['output_ids']):\n",
        "    score = beam_output['beam_scores'][i]\n",
        "    print(i, round(score.item() / tokens.shape[-1], 3), tokenizer.decode(tokens, skip_special_tokens=True))\n"
      ],
      "metadata": {
        "id": "WccupVHjymFv",
        "colab": {
          "base_uri": "https://localhost:8080/"
        },
        "outputId": "a5b0b466-7c66-4fed-8e98-5455f525cd41"
      },
      "execution_count": null,
      "outputs": [
        {
          "output_type": "stream",
          "name": "stdout",
          "text": [
            "0 -1.106 The brown fox jumps out of the fox's mouth, and the fox\n",
            "1 -1.168 The brown fox jumps out of the fox's cage, and the fox\n",
            "2 -1.182 The brown fox jumps out of the fox's mouth and starts to run\n",
            "3 -1.192 The brown fox jumps out of the fox's mouth and begins to lick\n",
            "4 -1.199 The brown fox jumps out of the fox's mouth and begins to bite\n"
          ]
        }
      ]
    },
    {
      "cell_type": "markdown",
      "source": [
        "To get you more acquainted with the code, let's do a simple exercise first. Write your own code in the cell below to generate 3 tokens with a beam size of 4, and then print out the **third most probable** output sequence found during the search. Use the same prefix as above."
      ],
      "metadata": {
        "id": "t6zN9dbNLBl8"
      }
    },
    {
      "cell_type": "code",
      "source": [
        "input_text = 'The brown fox jumps'\n",
        "\n",
        "# WRITE YOUR CODE HERE!\n",
        "num_beams = 4\n",
        "num_decode_steps = 3\n",
        "\n",
        "beam_output = run_beam_search(model, tokenizer, input_text, num_beams=num_beams, num_decode_steps=num_decode_steps)\n",
        "token = tokenizer.decode(beam_output['output_ids'][2], skip_special_tokens=True)\n",
        "print(token)\n"
      ],
      "metadata": {
        "id": "STizG6yiLqIS",
        "colab": {
          "base_uri": "https://localhost:8080/"
        },
        "outputId": "bc20e905-34ef-471a-e74b-c01052768a0e"
      },
      "execution_count": null,
      "outputs": [
        {
          "output_type": "stream",
          "name": "stdout",
          "text": [
            "The brown fox jumps up and down\n"
          ]
        }
      ]
    },
    {
      "cell_type": "markdown",
      "source": [
        "## Question 1.2 (5 points)\n",
        "\n",
        "Run the cell below to visualize the probabilities the model assigns for each generated word when using beam search with beam size 1 (i.e., greedy decoding)."
      ],
      "metadata": {
        "id": "15aHJGr8p0mD"
      }
    },
    {
      "cell_type": "code",
      "source": [
        "input_text = 'The brown fox jumps'\n",
        "beam_output = run_beam_search(model, tokenizer, input_text, num_beams=1, num_decode_steps=20)\n",
        "probs = beam_output['token_scores'][0, 1:].exp()\n",
        "output_subwords = [tokenizer.decode(tok, skip_special_tokens=True) for tok in beam_output['output_ids'][0]]\n",
        "\n",
        "print('Visualizeation with plot:')\n",
        "\n",
        "fig, ax = plt.subplots()\n",
        "plt.plot(range(len(probs)), probs)\n",
        "ax.set_xticks(range(len(probs)))\n",
        "ax.set_xticklabels(output_subwords[-len(probs):], rotation = 45)\n",
        "plt.xlabel('word')\n",
        "plt.ylabel('prob')\n",
        "plt.show()\n",
        "\n",
        "print('Visualization with colored text (red for lower probability, and blue for higher):')\n",
        "\n",
        "print_with_probs(output_subwords[-len(probs):], probs, ' '.join(output_subwords[:-len(probs)]))"
      ],
      "metadata": {
        "id": "lDXNNlktqIUW",
        "colab": {
          "base_uri": "https://localhost:8080/",
          "height": 565
        },
        "outputId": "4a84b190-63b4-4519-a212-c9e4a420b7ed"
      },
      "execution_count": null,
      "outputs": [
        {
          "output_type": "stream",
          "name": "stdout",
          "text": [
            "Visualizeation with plot:\n"
          ]
        },
        {
          "output_type": "display_data",
          "data": {
            "text/plain": [
              "<Figure size 640x480 with 1 Axes>"
            ],
            "image/png": "[encoded data removed]"
          },
          "metadata": {}
        },
        {
          "output_type": "stream",
          "name": "stdout",
          "text": [
            "Visualization with colored text (red for lower probability, and blue for higher):\n"
          ]
        },
        {
          "output_type": "display_data",
          "data": {
            "text/plain": [
              "The  brown  fox  jumps\u001b[1;38;2;0;0;0;48;2;244;111;68m up\u001b[0m\u001b[1;38;2;0;0;0;48;2;254;226;147m  and\u001b[0m\u001b[1;38;2;0;0;0;48;2;244;111;68m  down\u001b[0m\u001b[1;38;2;0;0;0;48;2;244;111;68m  on\u001b[0m\u001b[1;38;2;0;0;0;48;2;254;226;147m  the\u001b[0m\u001b[1;38;2;0;0;0;48;2;244;111;68m  ground\u001b[0m\u001b[1;38;2;0;0;0;48;2;244;111;68m ,\u001b[0m\u001b[1;38;2;0;0;0;48;2;215;49;39m  and\u001b[0m\u001b[1;38;2;0;0;0;48;2;215;49;39m  then\u001b[0m\u001b[1;38;2;0;0;0;48;2;215;49;39m  he\u001b[0m\u001b[1;38;2;0;0;0;48;2;215;49;39m  jumps\u001b[0m\u001b[1;38;2;0;0;0;48;2;253;176;99m  up\u001b[0m\u001b[1;38;2;0;0;0;48;2;251;253;196m  and\u001b[0m\u001b[1;38;2;0;0;0;48;2;163;210;229m  down\u001b[0m\u001b[1;38;2;0;0;0;48;2;253;176;99m  on\u001b[0m\u001b[1;38;2;0;0;0;48;2;217;239;246m  the\u001b[0m\u001b[1;38;2;0;0;0;48;2;251;253;196m  ground\u001b[0m\u001b[1;38;2;0;0;0;48;2;253;176;99m  \u001b[0m\n",
              "\u001b[1;38;2;0;0;0;48;2;253;176;99magain\u001b[0m\u001b[1;38;2;0;0;0;48;2;251;253;196m .\u001b[0m\u001b[1;38;2;0;0;0;48;2;244;111;68m \u001b[0m\n",
              "\n"
            ],
            "text/html": [
              "<pre style=\"white-space:pre;overflow-x:auto;line-height:normal;font-family:Menlo,'DejaVu Sans Mono',consolas,'Courier New',monospace\">The  brown  fox  jumps<span style=\"color: #000000; text-decoration-color: #000000; background-color: #f46f44; font-weight: bold\"> up</span><span style=\"color: #000000; text-decoration-color: #000000; background-color: #fee293; font-weight: bold\">  and</span><span style=\"color: #000000; text-decoration-color: #000000; background-color: #f46f44; font-weight: bold\">  down  on</span><span style=\"color: #000000; text-decoration-color: #000000; background-color: #fee293; font-weight: bold\">  the</span><span style=\"color: #000000; text-decoration-color: #000000; background-color: #f46f44; font-weight: bold\">  ground ,</span><span style=\"color: #000000; text-decoration-color: #000000; background-color: #d73127; font-weight: bold\">  and  then  he  jumps</span><span style=\"color: #000000; text-decoration-color: #000000; background-color: #fdb063; font-weight: bold\">  up</span><span style=\"color: #000000; text-decoration-color: #000000; background-color: #fbfdc4; font-weight: bold\">  and</span><span style=\"color: #000000; text-decoration-color: #000000; background-color: #a3d2e5; font-weight: bold\">  down</span><span style=\"color: #000000; text-decoration-color: #000000; background-color: #fdb063; font-weight: bold\">  on</span><span style=\"color: #000000; text-decoration-color: #000000; background-color: #d9eff6; font-weight: bold\">  the</span><span style=\"color: #000000; text-decoration-color: #000000; background-color: #fbfdc4; font-weight: bold\">  ground</span><span style=\"color: #000000; text-decoration-color: #000000; background-color: #fdb063; font-weight: bold\">  </span>\n",
              "<span style=\"color: #000000; text-decoration-color: #000000; background-color: #fdb063; font-weight: bold\">again</span><span style=\"color: #000000; text-decoration-color: #000000; background-color: #fbfdc4; font-weight: bold\"> .</span><span style=\"color: #000000; text-decoration-color: #000000; background-color: #f46f44; font-weight: bold\"> </span>\n",
              "\n",
              "</pre>\n"
            ]
          },
          "metadata": {}
        }
      ]
    },
    {
      "cell_type": "markdown",
      "source": [
        "Why does the model assign higher probability to tokens generated later than to tokens generated earlier?"
      ],
      "metadata": {
        "id": "KZq6Zhw0MKuo"
      }
    },
    {
      "cell_type": "markdown",
      "source": [
        "#### <font color=\"red\">Answer: </font>\n",
        "\n",
        "The model tries to predict the next word. as the sequence gets longer the model's knowledge of the context increases and it therefore becomes more certain of the next word.\n"
      ],
      "metadata": {
        "id": "lY8G4tJMMGl4"
      }
    },
    {
      "cell_type": "markdown",
      "source": [
        "\n",
        "\n",
        "Run the cell below to visualize the word probabilities when using different beam sizes."
      ],
      "metadata": {
        "id": "Boog4GEBsBCo"
      }
    },
    {
      "cell_type": "code",
      "source": [
        "input_text = 'Once upon a time, in a barn near a farm house,'\n",
        "num_decode_steps = 20\n",
        "model.cuda()\n",
        "\n",
        "beam_size_list = [1, 2, 3, 4, 5]\n",
        "output_list = []\n",
        "probs_list = []\n",
        "for bm in beam_size_list:\n",
        "  beam_output = run_beam_search(model, tokenizer, input_text, num_beams=bm, num_decode_steps=num_decode_steps)\n",
        "  output_list.append(beam_output)\n",
        "  probs = beam_output['token_scores'][0, 1:].exp()\n",
        "  probs_list.append((bm, probs))\n",
        "\n",
        "print('Visualization with plot:')\n",
        "fig, ax = plt.subplots()\n",
        "for bm, probs in probs_list:\n",
        "  plt.plot(range(len(probs)), probs, label=f'beam size = {bm}')\n",
        "plt.xlabel('decode step')\n",
        "plt.ylabel('prob')\n",
        "plt.legend(loc='best')\n",
        "plt.show()\n",
        "\n",
        "print('Model predictions:')\n",
        "for bm, beam_output in zip(beam_size_list, output_list):\n",
        "  tokens = beam_output['output_ids'][0]\n",
        "  print(bm, beam_output['beam_scores'][0].item() / tokens.shape[-1], tokenizer.decode(tokens, skip_special_tokens=True))"
      ],
      "metadata": {
        "id": "heX5mLxe-s-K",
        "colab": {
          "base_uri": "https://localhost:8080/",
          "height": 588
        },
        "outputId": "a79046ba-0900-4244-e2f2-f7264919df91"
      },
      "execution_count": null,
      "outputs": [
        {
          "output_type": "stream",
          "name": "stdout",
          "text": [
            "Visualization with plot:\n"
          ]
        },
        {
          "output_type": "display_data",
          "data": {
            "text/plain": [
              "<Figure size 640x480 with 1 Axes>"
            ],
            "image/png": "[encoded data removed]"
          },
          "metadata": {}
        },
        {
          "output_type": "stream",
          "name": "stdout",
          "text": [
            "Model predictions:\n",
            "1 -0.9706197796445905 Once upon a time, in a barn near a farm house, a young boy was playing with a stick. He was playing with a stick, and the boy was\n",
            "2 -0.9286185177889738 Once upon a time, in a barn near a farm house, a young boy was playing with a stick. The boy was playing with a stick, and the boy\n",
            "3 -0.9597569667931759 Once upon a time, in a barn near a farm house, a young boy was playing with a stick. The boy, who had been playing with a stick,\n",
            "4 -0.9205132108746152 Once upon a time, in a barn near a farm house, there was a young girl who had been brought up by her mother. She had been brought up by\n",
            "5 -0.9058780670166016 Once upon a time, in a barn near a farm house, there was a man who had been living in the house for a long time. He was a man\n"
          ]
        }
      ]
    },
    {
      "cell_type": "markdown",
      "source": [
        "## Question 1.3 (10 points)\n",
        "\n",
        "Beam search often results in repetition in the predicted tokens. In the following cell we pass a score processor called `WordBlock` to `run_beam_search`. At each time step, it reduces the probability for any previously seen word so that it is not generated again.\n",
        "\n",
        "Run the cell to see how the output of beam search changes with and without using `WordBlock`."
      ],
      "metadata": {
        "id": "uX4P6tTmtJ3Q"
      }
    },
    {
      "cell_type": "code",
      "source": [
        "import collections\n",
        "\n",
        "class WordBlock:\n",
        "    def __call__(self, input_ids, scores):\n",
        "        for batch_idx in range(input_ids.shape[0]):\n",
        "            for x in input_ids[batch_idx].tolist():\n",
        "                scores[batch_idx, x] = -1e9\n",
        "        return scores\n",
        "\n",
        "input_text = 'Once upon a time, in a barn near a farm house,'\n",
        "num_beams = 1\n",
        "\n",
        "print('Beam Search')\n",
        "beam_output = run_beam_search(model, tokenizer, input_text, num_beams=num_beams, num_decode_steps=40, score_processors=[])\n",
        "print(tokenizer.decode(beam_output['output_ids'][0], skip_special_tokens=True))\n",
        "\n",
        "print('Beam Search w/ Word Block')\n",
        "beam_output = run_beam_search(model, tokenizer, input_text, num_beams=num_beams, num_decode_steps=40, score_processors=[WordBlock()])\n",
        "print(tokenizer.decode(beam_output['output_ids'][0], skip_special_tokens=True))\n"
      ],
      "metadata": {
        "id": "yTu_HemeLquc",
        "colab": {
          "base_uri": "https://localhost:8080/"
        },
        "outputId": "fef3a5fe-e20e-494b-8325-5a74db84f972"
      },
      "execution_count": null,
      "outputs": [
        {
          "output_type": "stream",
          "name": "stdout",
          "text": [
            "Beam Search\n",
            "Once upon a time, in a barn near a farm house, a young boy was playing with a stick. He was playing with a stick, and the boy was playing with a stick. The boy was playing with a stick, and the boy was playing with a\n",
            "Beam Search w/ Word Block\n",
            "Once upon a time, in a barn near a farm house, the young girl was playing with her father's dog. She had been told that she would be given to him by his wife and he could take care of it for herself if needed; but when they\n"
          ]
        }
      ]
    },
    {
      "cell_type": "markdown",
      "source": [
        "Is `WordBlock` a practical way to prevent repetition in beam search? What (if anything) could go wrong when using `WordBlock`?"
      ],
      "metadata": {
        "id": "BMJ8KVrZSTQz"
      }
    },
    {
      "cell_type": "markdown",
      "source": [
        "#### <font color=\"red\">Answer </font>\n",
        "\n",
        "WordBlock reduces repetition as it decreases the probability for previously seen words. This makes the text more straightforward and less likely to have repetitions, which can make it appear more like human-written.\n",
        "\n",
        "One drawback with this method is that words need to be and should be reused sometimes. \"The\" and \"a\" are two good examples of words that should be reused, this way of reducing repetition in a text may prevent natural repetition of important keywords like the ones above.\n",
        "\n",
        "penalizing previously seen words may also force the model to choose less likely words that may decrease the grammatical flow, or the factual contents of the text.\n"
      ],
      "metadata": {
        "id": "WT0Jv2SBTinm"
      }
    },
    {
      "cell_type": "markdown",
      "source": [
        "## Question 1.4 (20 points)\n",
        "\n",
        "Use the previous `WordBlock` example to write a new score processor called `BeamBlock`. Instead of uni-grams, your implementation should prevent tri-grams from appearing more than once in the sequence.\n",
        "\n",
        "Note: This technique is called \"beam blocking\" and is described [here](https://arxiv.org/pdf/1705.04304.pdf) (section 2.5). Also, for this assignment you do not need to re-normalize your output distribution after masking values, although typically re-normalization is done.\n",
        "\n",
        "Write your code in the indicated section in the below cell."
      ],
      "metadata": {
        "id": "U4937n1-t6l3"
      }
    },
    {
      "cell_type": "code",
      "source": [
        "import collections\n",
        "\n",
        "class BeamBlock:\n",
        "    def __call__(self, input_ids, scores):\n",
        "        for batch_idx in range(input_ids.shape[0]):\n",
        "            token_sequence = input_ids[batch_idx].tolist()\n",
        "\n",
        "            if len(token_sequence) >= 2:\n",
        "                seen_trigrams = set(\n",
        "                    (token_sequence[i], token_sequence[i+1], token_sequence[i+2])\n",
        "                    for i in range(len(token_sequence) - 2)\n",
        "                )\n",
        "\n",
        "                for i in range(len(token_sequence) - 2):\n",
        "                    trigram_prefix = (token_sequence[i], token_sequence[i + 1])\n",
        "                    for word_id in range(scores.shape[1]):\n",
        "                        if (trigram_prefix[0], trigram_prefix[1], word_id) in seen_trigrams:\n",
        "                            scores[batch_idx, word_id] = -1e9\n",
        "        return scores\n",
        "\n",
        "input_text = 'Once upon a time, in a barn near a farm house,'\n",
        "num_beams = 1\n",
        "\n",
        "print('Beam Search')\n",
        "beam_output = run_beam_search(model, tokenizer, input_text, num_beams=num_beams, num_decode_steps=40, score_processors=[])\n",
        "print(tokenizer.decode(beam_output['output_ids'][0], skip_special_tokens=True))\n",
        "\n",
        "print('Beam Search w/ Beam Block')\n",
        "beam_output = run_beam_search(model, tokenizer, input_text, num_beams=num_beams, num_decode_steps=40, score_processors=[BeamBlock()])\n",
        "print(tokenizer.decode(beam_output['output_ids'][0], skip_special_tokens=True))\n"
      ],
      "metadata": {
        "id": "PTQUGTWgtuBN",
        "colab": {
          "base_uri": "https://localhost:8080/"
        },
        "outputId": "33f46d62-7951-4d63-fc1b-600e1dc49da1"
      },
      "execution_count": null,
      "outputs": [
        {
          "output_type": "stream",
          "name": "stdout",
          "text": [
            "Beam Search\n",
            "Once upon a time, in a barn near a farm house, a young boy was playing with a stick. He was playing with a stick, and the boy was playing with a stick. The boy was playing with a stick, and the boy was playing with a\n",
            "Beam Search w/ Beam Block\n",
            "Once upon a time, in a barn near a farm house, the young girl was playing with her father's dog. She had been told that she would be given to him by his wife and he could take care of it for herself if needed; but when they\n"
          ]
        }
      ]
    },
    {
      "cell_type": "markdown",
      "source": [
        "\n",
        "\n",
        "# <font color=\"blue\"> Submission Instructions</font>\n",
        "---------------------------\n",
        "\n",
        "1. Click the Save button at the top of the Jupyter Notebook.\n",
        "2. Select Cell -> All Output -> Clear. This will clear all the outputs from all cells (but will keep the content of all cells).\n",
        "2. Select Cell -> Run All. This will run all the cells in order, and will take several minutes.\n",
        "3. Once you've rerun everything, convert the notebook to PDF, you can use tools such as [nbconvert](https://nbconvert.readthedocs.io/en/latest/usage.html), which requires first downloading the  ipynb  to your local machine, and then running \"nbconvert\" . (If you have trouble using nbconvert, you can also save the webpage as pdf. <font color='blue'> Make sure all your solutions  are displayed in the pdf</font>, it's okay if the provided codes get cut off because lines are not wrapped in code cells).\n",
        "4. Look at the PDF file and make sure all your solutions are there, displayed correctly. The PDF is the only thing your graders will see!\n",
        "5. Submit your PDF on Gradescope,\n",
        "\n",
        "#### <font color=\"blue\"> Acknowledgements</font>\n",
        "This assignment is based on an assignment developed by Mohit Iyyer"
      ],
      "metadata": {
        "id": "72bCEqcNQWyw"
      }
    }
  ]
}